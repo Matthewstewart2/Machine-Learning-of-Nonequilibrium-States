{
 "cells": [
  {
   "cell_type": "markdown",
   "id": "289e2f14",
   "metadata": {},
   "source": [
    "# Comparison of Single Phase Diagam Points\n",
    "\n",
    "## Finding best metric to evaluate complexity in input distribution"
   ]
  },
  {
   "cell_type": "code",
   "execution_count": 1,
   "id": "67df8908",
   "metadata": {},
   "outputs": [],
   "source": [
    "# Standard imports\n",
    "import numpy as np\n",
    "import pandas as pd\n",
    "import tensorflow as tf\n",
    "import matplotlib.pyplot as plt\n",
    "import random\n",
    "from sklearn.model_selection import train_test_split"
   ]
  },
  {
   "cell_type": "code",
   "execution_count": 2,
   "id": "9618e2b8",
   "metadata": {},
   "outputs": [],
   "source": [
    "# Imports for curve fitting\n",
    "from iminuit import Minuit\n",
    "from scipy.integrate import quad"
   ]
  },
  {
   "cell_type": "code",
   "execution_count": 3,
   "id": "d4fc8e2b",
   "metadata": {},
   "outputs": [],
   "source": [
    "# Keras imports\n",
    "from tensorflow.python.keras.utils.vis_utils import plot_model\n",
    "from tensorflow.python.keras.models import Model, Sequential\n",
    "from tensorflow.python.keras.layers import Input, Dense, Dropout, Flatten, Reshape, Conv2D, Conv2DTranspose, Concatenate, Lambda,BatchNormalization, MaxPooling2D, UpSampling2D\n",
    "from tensorflow.python.keras import backend as K\n",
    "from tensorflow.python.keras.losses import binary_crossentropy\n",
    "from tensorflow.python.keras.layers.advanced_activations import LeakyReLU\n",
    "from tensorflow.python.keras.backend import set_image_data_format\n",
    "from tensorflow.keras.optimizers import Adam\n",
    "from tensorflow.python.framework.ops import disable_eager_execution\n",
    "disable_eager_execution()"
   ]
  },
  {
   "cell_type": "code",
   "execution_count": 4,
   "id": "3762baad",
   "metadata": {},
   "outputs": [],
   "source": [
    "def load_dataset(a, b):\n",
    "    #\n",
    "    num_snaps = 20000\n",
    "    tdiff = 9.0\n",
    "    grid_dataset_list = []\n",
    "    file_index = 1\n",
    "    alphas = np.linspace(0.2, 0.8, 4)\n",
    "    betas = np.linspace(0.2, 0.8, 4)\n",
    "    \n",
    "    for alpha in alphas:\n",
    "        for beta in betas:\n",
    "            if alpha == a and beta == b:\n",
    "                pair = (round(alpha, 2), round(beta, 2))\n",
    "                grid_pt_data = pd.read_csv(\"RealTimeSnaps{}alpha{}beta{}tdiff{}.csv\".format(num_snaps, pair[0], pair[1], tdiff), header=None)\n",
    "                grid_pt_data['y'] = [file_index] * grid_pt_data.shape[0]\n",
    "                grid_dataset_list.append(grid_pt_data)\n",
    "                print('Alpha, Beta is {} and given label {}'.format(pair, file_index))\n",
    "                file_index += 1\n",
    "    \n",
    "    grid_dataset = pd.concat(grid_dataset_list)\n",
    "\n",
    "    X = grid_dataset.iloc[:, :-1]\n",
    "    y = grid_dataset.iloc[:, -1]\n",
    "    \n",
    "    return X, y, file_index"
   ]
  },
  {
   "cell_type": "code",
   "execution_count": 5,
   "id": "7870fc5b",
   "metadata": {},
   "outputs": [
    {
     "name": "stdout",
     "output_type": "stream",
     "text": [
      "Alpha, Beta is (0.2, 0.8) and given label 1\n",
      "Alpha, Beta is (0.2, 0.2) and given label 1\n"
     ]
    }
   ],
   "source": [
    "Xmf, ymf, file_indexmf = load_dataset(0.2, 0.8)\n",
    "Xcx, ycx, file_indexcx = load_dataset(0.2, 0.2)\n",
    "Xmf_train, Xmf_test, ymf_train, ymf_test = train_test_split(Xmf, ymf, test_size=0.5)\n",
    "Xcx_train, Xcx_test, ycx_train, ycx_test = train_test_split(Xcx, ycx, test_size=0.5)"
   ]
  },
  {
   "cell_type": "code",
   "execution_count": 3,
   "id": "60fa6b5c",
   "metadata": {},
   "outputs": [],
   "source": [
    "class VAE:\n",
    "    #\n",
    "    def __init__(self, original_dim=100, intermediate_dim1=75, intermediate_dim2=50, latent_dim=1):\n",
    "        #\n",
    "        self.original_dim = original_dim\n",
    "        self.latent_dim = latent_dim\n",
    "        self.intermediate_dim1 = intermediate_dim1\n",
    "        self.intermediate_dim2 = intermediate_dim2\n",
    "        \n",
    "    def sampling(self, args):\n",
    "        # Unpack arguments\n",
    "        z_mean, z_log_var = args\n",
    "        # Get shape of random noise to sample\n",
    "        epsilon = K.random_normal(shape=K.shape(z_mean))\n",
    "        # Return samples from latent space p.d.f.\n",
    "        return z_mean + K.exp(0.5 * z_log_var) * epsilon\n",
    "    \n",
    "    def build_vae(self):\n",
    "        #\n",
    "        original_dim = self.original_dim\n",
    "        latent_dim = self.latent_dim\n",
    "        intermediate_dim1 = self.intermediate_dim1\n",
    "        intermediate_dim2 = self.intermediate_dim2\n",
    "        \n",
    "        # encoder\n",
    "        inputs = Input(original_dim, name='input')\n",
    "        x = Dense(intermediate_dim1, activation='relu')(inputs)\n",
    "        x = Dense(intermediate_dim2, activation='relu')(x)\n",
    "        z_mean = Dense(latent_dim, name=\"z_mean\")(x)\n",
    "        z_log_var = Dense(latent_dim, name=\"z_log_var\")(x)\n",
    "        z = Lambda(self.sampling, output_shape=(latent_dim, ), name='z')([z_mean, z_log_var])\n",
    "        self.encoder = Model(inputs, [z_mean, z_log_var, z], name='encoder')\n",
    "        \n",
    "        #decoder\n",
    "        latent_inputs = Input(shape=(latent_dim,), name='z_sampling')\n",
    "        x = Dense(intermediate_dim2, activation='relu')(latent_inputs)\n",
    "        x = Dense(intermediate_dim1, activation='relu')(x)\n",
    "        outputs = Dense(original_dim, activation='sigmoid')(x)\n",
    "        self.decoder = Model(latent_inputs, outputs, name='decoder')\n",
    "        \n",
    "        i = self.encoder.inputs\n",
    "        if len(i) == 1:\n",
    "            i = i[0]\n",
    "            pass\n",
    "        z = self.encoder(i)[2]\n",
    "        o = self.decoder(z)\n",
    "        self.vae = Model(i, o, name='VAE')\n",
    "        \n",
    "    def compile_vae(self):\n",
    "        # Get the latent p.d.f. mean and log-variance output layers from VAE encoder\n",
    "        encoder   = self.vae.get_layer('encoder')\n",
    "        z_log_var = encoder.get_layer('z_log_var').output\n",
    "        z_mean    = encoder.get_layer('z_mean').output\n",
    "\n",
    "        # Define reconstruction loss\n",
    "        def reco_loss(y_true, y_pred):\n",
    "            # Use binary cross-entropy loss\n",
    "            reco_loss_value = binary_crossentropy(y_true, y_pred) # Averages over axis=-1\n",
    "            reco_loss_value = K.sum(reco_loss_value)\n",
    "            return reco_loss_value\n",
    "\n",
    "        # Define Kullback-Leibler loss with reference to encoder output layers\n",
    "        def kl_loss(y_true, y_pred):\n",
    "            kl_loss_value = 0.5 * (K.square(z_mean) + K.exp(z_log_var) - 1. - z_log_var)\n",
    "            kl_loss_value = K.sum(kl_loss_value, axis=-1)\n",
    "            return kl_loss_value\n",
    "\n",
    "        # Define VAE loss\n",
    "        def vae_loss(y_true, y_pred):\n",
    "            return reco_loss(y_true, y_pred) + kl_loss(y_true, y_pred)\n",
    "\n",
    "        self.vae.compile(optimizer='adam', loss=vae_loss, metrics=[reco_loss, kl_loss])\n",
    "        return\n",
    "    \n",
    "    def get_summaries(self):\n",
    "        #\n",
    "        return [self.encoder.summary(),\n",
    "                self.decoder.summary(),\n",
    "                self.vae.summary()]\n",
    "    \n",
    "    def get_architectures(self):\n",
    "        #\n",
    "        return [plot_model(self.encoder, show_shapes=True),\n",
    "                plot_model(self.decoder, show_shapes=True),\n",
    "                plot_model(self.vae, show_shapes=True)]"
   ]
  },
  {
   "cell_type": "code",
   "execution_count": 7,
   "id": "7e025154",
   "metadata": {},
   "outputs": [],
   "source": [
    "MFvae = VAE()\n",
    "MFvae.build_vae()\n",
    "MFvae.compile_vae()\n",
    "CXvae = VAE()\n",
    "CXvae.build_vae()\n",
    "CXvae.compile_vae()"
   ]
  },
  {
   "cell_type": "code",
   "execution_count": 8,
   "id": "33d06627",
   "metadata": {},
   "outputs": [],
   "source": [
    "nb_epochs  = 10\n",
    "batch_size = 32"
   ]
  },
  {
   "cell_type": "code",
   "execution_count": 9,
   "id": "60e4e043",
   "metadata": {},
   "outputs": [
    {
     "name": "stderr",
     "output_type": "stream",
     "text": [
      "C:\\Users\\Matthew\\Anaconda3\\envs\\daml2\\lib\\site-packages\\tensorflow\\python\\keras\\engine\\training.py:2464: UserWarning: `Model.state_updates` will be removed in a future version. This property should not be used in TensorFlow 2.0, as `updates` are applied automatically.\n",
      "  warnings.warn('`Model.state_updates` will be removed in a future version. '\n"
     ]
    }
   ],
   "source": [
    "mf_history = MFvae.vae.fit(Xmf_train, Xmf_train,\n",
    "                           epochs=nb_epochs,\n",
    "                           batch_size=batch_size,\n",
    "                           shuffle=True,\n",
    "                           validation_split=0.2,\n",
    "                           verbose=False)"
   ]
  },
  {
   "cell_type": "code",
   "execution_count": 10,
   "id": "75c00e29",
   "metadata": {},
   "outputs": [],
   "source": [
    "cx_history = CXvae.vae.fit(Xcx_train, Xcx_train,\n",
    "                           epochs=nb_epochs,\n",
    "                           batch_size=batch_size,\n",
    "                           shuffle=True,\n",
    "                           validation_split=0.2,\n",
    "                           verbose = False)"
   ]
  },
  {
   "cell_type": "code",
   "execution_count": 11,
   "id": "5b3ac1a8",
   "metadata": {},
   "outputs": [],
   "source": [
    "def plot_losses(vae_history, name, ax):\n",
    "    #\n",
    "    ax.plot(vae_history.history['loss'], label= name+' training loss')\n",
    "    ax.plot(vae_history.history['reco_loss'], label=name+' training reconstruction loss')\n",
    "    #ax.plot(vae_history.history['kl_loss'], label=name+' training kl loss')\n",
    "    ax.plot(vae_history.history['val_loss'], label=name+' validation loss')\n",
    "    ax.plot(vae_history.history['val_reco_loss'], label=name+' validation reconstruction loss')\n",
    "    #ax.plot(vae_history.history['val_kl_loss'], label=name+' validation kl loss')\n",
    "    ax.legend(loc=\"best\")"
   ]
  },
  {
   "cell_type": "code",
   "execution_count": 12,
   "id": "69c97652",
   "metadata": {},
   "outputs": [],
   "source": [
    "def plot_z_distribution(z_samples, fit_mu, fit_sigma, name, ax):\n",
    "    #\n",
    "    counts, bin_edges, _ = ax.hist(z_samples[:, 0],bins='auto', density=True, label=name+' z samples')\n",
    "    tot_bin_edges = np.array(bin_edges)\n",
    "    half_bin_width = (tot_bin_edges[1] - tot_bin_edges[0]) / 2.\n",
    "    zs = (tot_bin_edges + half_bin_width)[:-1]\n",
    "    ax.plot(zs, gaussian_pdf(zs, fit_mu, fit_sigma), label=name+' Gaussian fit')\n",
    "    ax.legend(loc=\"best\")"
   ]
  },
  {
   "cell_type": "code",
   "execution_count": 13,
   "id": "5a8f88bc",
   "metadata": {},
   "outputs": [],
   "source": [
    "def plot_z_example(z, decoder, name, ax):\n",
    "    #\n",
    "    ax.scatter(list(range(100)), decoder.predict(np.array([z])), label=name+' z = '+str(z))\n",
    "    ax.set_ylim(0, 1)\n",
    "    ax.legend()"
   ]
  },
  {
   "cell_type": "code",
   "execution_count": 14,
   "id": "e6bf0438",
   "metadata": {},
   "outputs": [],
   "source": [
    "def gaussian_pdf(z, mu, sigma):\n",
    "    #\n",
    "    return (1./(sigma*np.sqrt(2*np.pi))) * np.exp(-0.5 * ((z - mu)/sigma)**2)"
   ]
  },
  {
   "cell_type": "code",
   "execution_count": 15,
   "id": "c9ab1feb",
   "metadata": {},
   "outputs": [],
   "source": [
    "def nllmf(mu, sigma):\n",
    "    #\n",
    "    return -1 * np.sum(np.log(gaussian_pdf(mfz_samples, mu, sigma)))"
   ]
  },
  {
   "cell_type": "code",
   "execution_count": 16,
   "id": "edacded1",
   "metadata": {},
   "outputs": [],
   "source": [
    "def nllcx(mu, sigma):\n",
    "    #\n",
    "    return -1 * np.sum(np.log(gaussian_pdf(cxz_samples, mu, sigma)))"
   ]
  },
  {
   "cell_type": "code",
   "execution_count": 17,
   "id": "71cfb077",
   "metadata": {},
   "outputs": [],
   "source": [
    "_, _, mfz_samples = MFvae.encoder.predict(Xmf_test)\n",
    "_, _, cxz_samples = CXvae.encoder.predict(Xcx_test)"
   ]
  },
  {
   "cell_type": "code",
   "execution_count": 18,
   "id": "df51c961",
   "metadata": {},
   "outputs": [],
   "source": [
    "# fit Minuit, with initial guesses for background lifetime, signal mean and background fraction F\n",
    "fitmf = Minuit(nllmf, mu=0., sigma=1.)\n",
    "fitcx = Minuit(nllcx, mu=0., sigma=1.)\n",
    "# definition of error for nll given in notes\n",
    "fitmf.errordef = 0.5\n",
    "fitcx.errordef = 0.5"
   ]
  },
  {
   "cell_type": "code",
   "execution_count": 19,
   "id": "0288f043",
   "metadata": {},
   "outputs": [
    {
     "data": {
      "text/html": [
       "<table>\n",
       "    <tr>\n",
       "        <th colspan=\"5\" style=\"text-align:center\" title=\"Minimizer\"> Migrad </th>\n",
       "    </tr>\n",
       "    <tr>\n",
       "        <td colspan=\"2\" style=\"text-align:left\" title=\"Minimum value of function\"> FCN = 1.425e+04 </td>\n",
       "        <td colspan=\"3\" style=\"text-align:center\" title=\"No. of function evaluations in last call and total number\"> Nfcn = 48 </td>\n",
       "    </tr>\n",
       "    <tr>\n",
       "        <td colspan=\"2\" style=\"text-align:left\" title=\"Estimated distance to minimum and goal\"> EDM = 0 (Goal: 0.0001) </td>\n",
       "        <td colspan=\"3\" style=\"text-align:center\" title=\"No. of gradient evaluations in last call and total number\">  </td>\n",
       "    </tr>\n",
       "    <tr>\n",
       "        <td colspan=\"2\" style=\"text-align:center;background-color:#92CCA6;color:black\"> Valid Minimum </td>\n",
       "        <td colspan=\"3\" style=\"text-align:center;background-color:#92CCA6;color:black\"> No Parameters at limit </td>\n",
       "    </tr>\n",
       "    <tr>\n",
       "        <td colspan=\"2\" style=\"text-align:center;background-color:#92CCA6;color:black\"> Below EDM threshold (goal x 10) </td>\n",
       "        <td colspan=\"3\" style=\"text-align:center;background-color:#92CCA6;color:black\"> Below call limit </td>\n",
       "    </tr>\n",
       "    <tr>\n",
       "        <td style=\"text-align:center;background-color:#92CCA6;color:black\"> Covariance </td>\n",
       "        <td style=\"text-align:center;background-color:#92CCA6;color:black\"> Hesse ok </td>\n",
       "        <td style=\"text-align:center;background-color:#92CCA6;color:black\" title=\"Is covariance matrix accurate?\"> Accurate </td>\n",
       "        <td style=\"text-align:center;background-color:#92CCA6;color:black\" title=\"Is covariance matrix positive definite?\"> Pos. def. </td>\n",
       "        <td style=\"text-align:center;background-color:#92CCA6;color:black\" title=\"Was positive definiteness enforced by Minuit?\"> Not forced </td>\n",
       "    </tr>\n",
       "</table><table>\n",
       "    <tr>\n",
       "        <td></td>\n",
       "        <th title=\"Variable name\"> Name </th>\n",
       "        <th title=\"Value of parameter\"> Value </th>\n",
       "        <th title=\"Hesse error\"> Hesse Error </th>\n",
       "        <th title=\"Minos lower error\"> Minos Error- </th>\n",
       "        <th title=\"Minos upper error\"> Minos Error+ </th>\n",
       "        <th title=\"Lower limit of the parameter\"> Limit- </th>\n",
       "        <th title=\"Upper limit of the parameter\"> Limit+ </th>\n",
       "        <th title=\"Is the parameter fixed in the fit\"> Fixed </th>\n",
       "    </tr>\n",
       "    <tr>\n",
       "        <th> 0 </th>\n",
       "        <td> mu </td>\n",
       "        <td> -0.000 </td>\n",
       "        <td> 0.009 </td>\n",
       "        <td>  </td>\n",
       "        <td>  </td>\n",
       "        <td>  </td>\n",
       "        <td>  </td>\n",
       "        <td>  </td>\n",
       "    </tr>\n",
       "    <tr>\n",
       "        <th> 1 </th>\n",
       "        <td> sigma </td>\n",
       "        <td> 1.007 </td>\n",
       "        <td> 0.006 </td>\n",
       "        <td>  </td>\n",
       "        <td>  </td>\n",
       "        <td>  </td>\n",
       "        <td>  </td>\n",
       "        <td>  </td>\n",
       "    </tr>\n",
       "</table><table>\n",
       "    <tr>\n",
       "        <td></td>\n",
       "        <th> mu </th>\n",
       "        <th> sigma </th>\n",
       "    </tr>\n",
       "    <tr>\n",
       "        <th> mu </th>\n",
       "        <td> 7.92e-05 </td>\n",
       "        <td style=\"background-color:rgb(250,232,232);color:black\"> 6.46e-06 <strong>(0.118)</strong> </td>\n",
       "    </tr>\n",
       "    <tr>\n",
       "        <th> sigma </th>\n",
       "        <td style=\"background-color:rgb(250,232,232);color:black\"> 6.46e-06 <strong>(0.118)</strong> </td>\n",
       "        <td> 3.8e-05 </td>\n",
       "    </tr>\n",
       "</table>"
      ],
      "text/plain": [
       "┌─────────────────────────────────────────────────────────────────────────┐\n",
       "│                                Migrad                                   │\n",
       "├──────────────────────────────────┬──────────────────────────────────────┤\n",
       "│ FCN = 1.425e+04                  │              Nfcn = 48               │\n",
       "│ EDM = 0 (Goal: 0.0001)           │                                      │\n",
       "├──────────────────────────────────┼──────────────────────────────────────┤\n",
       "│          Valid Minimum           │        No Parameters at limit        │\n",
       "├──────────────────────────────────┼──────────────────────────────────────┤\n",
       "│ Below EDM threshold (goal x 10)  │           Below call limit           │\n",
       "├───────────────┬──────────────────┼───────────┬─────────────┬────────────┤\n",
       "│  Covariance   │     Hesse ok     │ Accurate  │  Pos. def.  │ Not forced │\n",
       "└───────────────┴──────────────────┴───────────┴─────────────┴────────────┘\n",
       "┌───┬───────┬───────────┬───────────┬────────────┬────────────┬─────────┬─────────┬───────┐\n",
       "│   │ Name  │   Value   │ Hesse Err │ Minos Err- │ Minos Err+ │ Limit-  │ Limit+  │ Fixed │\n",
       "├───┼───────┼───────────┼───────────┼────────────┼────────────┼─────────┼─────────┼───────┤\n",
       "│ 0 │ mu    │  -0.000   │   0.009   │            │            │         │         │       │\n",
       "│ 1 │ sigma │   1.007   │   0.006   │            │            │         │         │       │\n",
       "└───┴───────┴───────────┴───────────┴────────────┴────────────┴─────────┴─────────┴───────┘\n",
       "┌───────┬───────────────────┐\n",
       "│       │       mu    sigma │\n",
       "├───────┼───────────────────┤\n",
       "│    mu │ 7.92e-05 6.46e-06 │\n",
       "│ sigma │ 6.46e-06  3.8e-05 │\n",
       "└───────┴───────────────────┘"
      ]
     },
     "execution_count": 19,
     "metadata": {},
     "output_type": "execute_result"
    }
   ],
   "source": [
    "fitmf.migrad()"
   ]
  },
  {
   "cell_type": "code",
   "execution_count": 20,
   "id": "60476564",
   "metadata": {},
   "outputs": [
    {
     "data": {
      "text/html": [
       "<table>\n",
       "    <tr>\n",
       "        <th colspan=\"5\" style=\"text-align:center\" title=\"Minimizer\"> Migrad </th>\n",
       "    </tr>\n",
       "    <tr>\n",
       "        <td colspan=\"2\" style=\"text-align:left\" title=\"Minimum value of function\"> FCN = 1.454e+04 </td>\n",
       "        <td colspan=\"3\" style=\"text-align:center\" title=\"No. of function evaluations in last call and total number\"> Nfcn = 34 </td>\n",
       "    </tr>\n",
       "    <tr>\n",
       "        <td colspan=\"2\" style=\"text-align:left\" title=\"Estimated distance to minimum and goal\"> EDM = 0.000305 (Goal: 0.0001) </td>\n",
       "        <td colspan=\"3\" style=\"text-align:center\" title=\"No. of gradient evaluations in last call and total number\">  </td>\n",
       "    </tr>\n",
       "    <tr>\n",
       "        <td colspan=\"2\" style=\"text-align:center;background-color:#92CCA6;color:black\"> Valid Minimum </td>\n",
       "        <td colspan=\"3\" style=\"text-align:center;background-color:#92CCA6;color:black\"> No Parameters at limit </td>\n",
       "    </tr>\n",
       "    <tr>\n",
       "        <td colspan=\"2\" style=\"text-align:center;background-color:#92CCA6;color:black\"> Below EDM threshold (goal x 10) </td>\n",
       "        <td colspan=\"3\" style=\"text-align:center;background-color:#92CCA6;color:black\"> Below call limit </td>\n",
       "    </tr>\n",
       "    <tr>\n",
       "        <td style=\"text-align:center;background-color:#92CCA6;color:black\"> Covariance </td>\n",
       "        <td style=\"text-align:center;background-color:#92CCA6;color:black\"> Hesse ok </td>\n",
       "        <td style=\"text-align:center;background-color:#92CCA6;color:black\" title=\"Is covariance matrix accurate?\"> Accurate </td>\n",
       "        <td style=\"text-align:center;background-color:#92CCA6;color:black\" title=\"Is covariance matrix positive definite?\"> Pos. def. </td>\n",
       "        <td style=\"text-align:center;background-color:#92CCA6;color:black\" title=\"Was positive definiteness enforced by Minuit?\"> Not forced </td>\n",
       "    </tr>\n",
       "</table><table>\n",
       "    <tr>\n",
       "        <td></td>\n",
       "        <th title=\"Variable name\"> Name </th>\n",
       "        <th title=\"Value of parameter\"> Value </th>\n",
       "        <th title=\"Hesse error\"> Hesse Error </th>\n",
       "        <th title=\"Minos lower error\"> Minos Error- </th>\n",
       "        <th title=\"Minos upper error\"> Minos Error+ </th>\n",
       "        <th title=\"Lower limit of the parameter\"> Limit- </th>\n",
       "        <th title=\"Upper limit of the parameter\"> Limit+ </th>\n",
       "        <th title=\"Is the parameter fixed in the fit\"> Fixed </th>\n",
       "    </tr>\n",
       "    <tr>\n",
       "        <th> 0 </th>\n",
       "        <td> mu </td>\n",
       "        <td> 0.070 </td>\n",
       "        <td> 0.011 </td>\n",
       "        <td>  </td>\n",
       "        <td>  </td>\n",
       "        <td>  </td>\n",
       "        <td>  </td>\n",
       "        <td>  </td>\n",
       "    </tr>\n",
       "    <tr>\n",
       "        <th> 1 </th>\n",
       "        <td> sigma </td>\n",
       "        <td> 1.036 </td>\n",
       "        <td> 0.007 </td>\n",
       "        <td>  </td>\n",
       "        <td>  </td>\n",
       "        <td>  </td>\n",
       "        <td>  </td>\n",
       "        <td>  </td>\n",
       "    </tr>\n",
       "</table><table>\n",
       "    <tr>\n",
       "        <td></td>\n",
       "        <th> mu </th>\n",
       "        <th> sigma </th>\n",
       "    </tr>\n",
       "    <tr>\n",
       "        <th> mu </th>\n",
       "        <td> 0.000125 </td>\n",
       "        <td style=\"background-color:rgb(250,250,250);color:black\"> 0 </td>\n",
       "    </tr>\n",
       "    <tr>\n",
       "        <th> sigma </th>\n",
       "        <td style=\"background-color:rgb(250,250,250);color:black\"> 0 </td>\n",
       "        <td> 4.69e-05 </td>\n",
       "    </tr>\n",
       "</table>"
      ],
      "text/plain": [
       "┌─────────────────────────────────────────────────────────────────────────┐\n",
       "│                                Migrad                                   │\n",
       "├──────────────────────────────────┬──────────────────────────────────────┤\n",
       "│ FCN = 1.454e+04                  │              Nfcn = 34               │\n",
       "│ EDM = 0.000305 (Goal: 0.0001)    │                                      │\n",
       "├──────────────────────────────────┼──────────────────────────────────────┤\n",
       "│          Valid Minimum           │        No Parameters at limit        │\n",
       "├──────────────────────────────────┼──────────────────────────────────────┤\n",
       "│ Below EDM threshold (goal x 10)  │           Below call limit           │\n",
       "├───────────────┬──────────────────┼───────────┬─────────────┬────────────┤\n",
       "│  Covariance   │     Hesse ok     │ Accurate  │  Pos. def.  │ Not forced │\n",
       "└───────────────┴──────────────────┴───────────┴─────────────┴────────────┘\n",
       "┌───┬───────┬───────────┬───────────┬────────────┬────────────┬─────────┬─────────┬───────┐\n",
       "│   │ Name  │   Value   │ Hesse Err │ Minos Err- │ Minos Err+ │ Limit-  │ Limit+  │ Fixed │\n",
       "├───┼───────┼───────────┼───────────┼────────────┼────────────┼─────────┼─────────┼───────┤\n",
       "│ 0 │ mu    │   0.070   │   0.011   │            │            │         │         │       │\n",
       "│ 1 │ sigma │   1.036   │   0.007   │            │            │         │         │       │\n",
       "└───┴───────┴───────────┴───────────┴────────────┴────────────┴─────────┴─────────┴───────┘\n",
       "┌───────┬───────────────────┐\n",
       "│       │       mu    sigma │\n",
       "├───────┼───────────────────┤\n",
       "│    mu │ 0.000125        0 │\n",
       "│ sigma │        0 4.69e-05 │\n",
       "└───────┴───────────────────┘"
      ]
     },
     "execution_count": 20,
     "metadata": {},
     "output_type": "execute_result"
    }
   ],
   "source": [
    "fitcx.migrad()"
   ]
  },
  {
   "cell_type": "code",
   "execution_count": 21,
   "id": "af95d4d8",
   "metadata": {},
   "outputs": [
    {
     "data": {
      "image/png": "[encoded data removed]",
      "text/plain": [
       "<Figure size 864x432 with 2 Axes>"
      ]
     },
     "metadata": {
      "needs_background": "light"
     },
     "output_type": "display_data"
    }
   ],
   "source": [
    "mu_fitmf = fitmf.values[\"mu\"]\n",
    "sigma_fitmf = fitmf.values[\"sigma\"]\n",
    "mu_fitcx = fitcx.values[\"mu\"]\n",
    "sigma_fitcx = fitcx.values[\"sigma\"]\n",
    "fig, axs = plt.subplots(1, 2, sharey=True, figsize=(12,6))\n",
    "fig.suptitle('z distributions')\n",
    "fig.supxlabel('z')\n",
    "fig.supylabel('probability density')\n",
    "plot_z_distribution(mfz_samples, mu_fitmf, sigma_fitmf, 'mean field', axs[0])\n",
    "plot_z_distribution(cxz_samples, mu_fitcx, sigma_fitcx, 'coexistence', axs[1])\n",
    "plt.savefig('Comparison_z_dist')\n",
    "plt.show()"
   ]
  },
  {
   "cell_type": "code",
   "execution_count": 86,
   "id": "50dceea6",
   "metadata": {},
   "outputs": [],
   "source": [
    "#lat_length = 100\n",
    "#zstart = -4.\n",
    "#zstop = 4.\n",
    "#znum = 1000\n",
    "#zrange = np.linspace(zstart, zstop, znum)\n",
    "num_pts = 500"
   ]
  },
  {
   "cell_type": "code",
   "execution_count": 87,
   "id": "c1ad6cb8",
   "metadata": {},
   "outputs": [],
   "source": [
    "def config_taus(rhos):\n",
    "    #\n",
    "    taus = np.zeros(lat_length)\n",
    "    for i in range(lat_length):\n",
    "        if random.random() <= rhos[i]:\n",
    "            taus[i] = 1\n",
    "    return taus"
   ]
  },
  {
   "cell_type": "code",
   "execution_count": 88,
   "id": "2626a879",
   "metadata": {},
   "outputs": [],
   "source": [
    "def calc_mfpoftaus(rhos, taus):\n",
    "    #\n",
    "    return np.prod(rhos**taus * (1-rhos)**(1-taus))"
   ]
  },
  {
   "cell_type": "code",
   "execution_count": 89,
   "id": "3a0420ee",
   "metadata": {},
   "outputs": [],
   "source": [
    "def calc_complexity1(z_samples, decoder):\n",
    "    avg_1 = 0\n",
    "    for i in range(num_pts):\n",
    "        sample0 = random.choice(z_samples)\n",
    "        rhos0 = decoder.predict(np.array([sample0]))[0]  \n",
    "        taus0 = config_taus(rhos0)\n",
    "        avg_0 = 0\n",
    "        for i in range(num_pts):\n",
    "            sample1 = random.choice(z_samples)\n",
    "            rhos1 = decoder.predict(np.array([sample1]))[0]  \n",
    "            avg_0 += calc_mfpoftaus(rhos1, taus0)\n",
    "        avg_0 /= num_pts\n",
    "        avg_1 += np.log(avg_0)\n",
    "    avg_1 /= num_pts\n",
    "    \n",
    "    avg_2 = 0\n",
    "    for i in range(num_pts):\n",
    "        sample2 = random.choice(z_samples)\n",
    "        rhos2 = decoder.predict(np.array([sample2]))[0]\n",
    "        avg_0b = 0\n",
    "        for i in range(num_pts):\n",
    "            sample_prime = random.choice(z_samples)\n",
    "            rhos_prime = decoder.predict(np.array([sample_prime]))[0]\n",
    "            taus_prime = config_taus(rhos_prime)\n",
    "            avg_0b += np.log(calc_mfpoftaus(rhos2, taus_prime))\n",
    "        avg_0b /= num_pts\n",
    "        avg_2 += avg_0b\n",
    "    avg_2 /= num_pts\n",
    "    \n",
    "    return avg_1 - avg_2"
   ]
  },
  {
   "cell_type": "code",
   "execution_count": 90,
   "id": "804b78e8",
   "metadata": {},
   "outputs": [],
   "source": [
    "mf_complexity1 = calc_complexity1(mfz_samples, MFvae.decoder)\n",
    "cx_complexity1 = calc_complexity1(cxz_samples, CXvae.decoder)"
   ]
  },
  {
   "cell_type": "code",
   "execution_count": 91,
   "id": "ecd86a99",
   "metadata": {},
   "outputs": [],
   "source": [
    "def calc_complexity2(z_samples, decoder):\n",
    "    avg_A = 0\n",
    "    for i in range(num_pts):\n",
    "        sample_A = random.choice(z_samples)\n",
    "        rhos_A = decoder.predict(np.array([sample_A]))[0]\n",
    "        sum_A = np.sum(rhos_A*np.log(rhos_A) + (1-rhos_A)*np.log(1-rhos_A))\n",
    "        avg_A += sum_A\n",
    "    avg_A /= num_pts\n",
    "    \n",
    "    avg_rhos = 0\n",
    "    for i in range(num_pts):\n",
    "        sample_B = random.choice(z_samples)\n",
    "        rhos_B = decoder.predict(np.array([sample_B]))[0]\n",
    "        avg_rhos += rhos_B\n",
    "    avg_rhos /= num_pts\n",
    "    sum_B = np.sum(avg_rhos*np.log(avg_rhos) + (1-avg_rhos)*np.log(1-avg_rhos))\n",
    "    \n",
    "    return avg_A - sum_B"
   ]
  },
  {
   "cell_type": "code",
   "execution_count": 92,
   "id": "63bb50dd",
   "metadata": {},
   "outputs": [],
   "source": [
    "mf_complexity2 = calc_complexity2(mfz_samples, MFvae.decoder)\n",
    "cx_complexity2 = calc_complexity2(cxz_samples, CXvae.decoder)"
   ]
  },
  {
   "cell_type": "code",
   "execution_count": 93,
   "id": "f573c17c",
   "metadata": {},
   "outputs": [
    {
     "name": "stdout",
     "output_type": "stream",
     "text": [
      "Mean-field: complexity1 = 0.01745198891806865, complexity2 = -0.03461240386963027\n",
      "Coexistence: complexity1 = 17.804789758492568, complexity2 = 9.505138694763183\n"
     ]
    }
   ],
   "source": [
    "print('Mean-field: complexity1 = {}, complexity2 = {}'.format(mf_complexity1, mf_complexity2))\n",
    "print('Coexistence: complexity1 = {}, complexity2 = {}'.format(cx_complexity1, cx_complexity2))"
   ]
  }
 ],
 "metadata": {
  "kernelspec": {
   "display_name": "Python 3 (ipykernel)",
   "language": "python",
   "name": "python3"
  },
  "language_info": {
   "codemirror_mode": {
    "name": "ipython",
    "version": 3
   },
   "file_extension": ".py",
   "mimetype": "text/x-python",
   "name": "python",
   "nbconvert_exporter": "python",
   "pygments_lexer": "ipython3",
   "version": "3.7.11"
  }
 },
 "nbformat": 4,
 "nbformat_minor": 5
}
