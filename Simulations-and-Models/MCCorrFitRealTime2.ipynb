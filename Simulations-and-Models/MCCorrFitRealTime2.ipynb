{
 "cells": [
  {
   "cell_type": "code",
   "execution_count": 44,
   "id": "445d2619",
   "metadata": {},
   "outputs": [],
   "source": [
    "import pandas as pd\n",
    "import numpy as np\n",
    "import matplotlib.pyplot as plt\n",
    "import scipy as sp\n",
    "import scipy.optimize"
   ]
  },
  {
   "cell_type": "code",
   "execution_count": 45,
   "id": "6c29fff9",
   "metadata": {},
   "outputs": [],
   "source": [
    "filename = \"MCRealTimeCorrelationsDiffpoint05.csv\"\n",
    "\n",
    "tdiff = 0.05\n",
    "\n",
    "if filename[:2] == 'HD':\n",
    "    title = 'High Density Phase'\n",
    "    alpha = 0.75\n",
    "    beta = 0.25\n",
    "elif filename[:2] == 'LD':\n",
    "    title = 'Low Density Phase'\n",
    "    alpha = 0.25\n",
    "    beta = 0.75\n",
    "else:\n",
    "    title = 'Maximal Current Phase'\n",
    "    alpha = 0.75\n",
    "    beta = 0.75"
   ]
  },
  {
   "cell_type": "code",
   "execution_count": 46,
   "id": "197c2ddf",
   "metadata": {},
   "outputs": [
    {
     "data": {
      "text/html": [
       "<div>\n",
       "<style scoped>\n",
       "    .dataframe tbody tr th:only-of-type {\n",
       "        vertical-align: middle;\n",
       "    }\n",
       "\n",
       "    .dataframe tbody tr th {\n",
       "        vertical-align: top;\n",
       "    }\n",
       "\n",
       "    .dataframe thead th {\n",
       "        text-align: right;\n",
       "    }\n",
       "</style>\n",
       "<table border=\"1\" class=\"dataframe\">\n",
       "  <thead>\n",
       "    <tr style=\"text-align: right;\">\n",
       "      <th></th>\n",
       "      <th>1</th>\n",
       "      <th>1.1</th>\n",
       "      <th>1.2</th>\n",
       "      <th>1.3</th>\n",
       "      <th>1.4</th>\n",
       "      <th>1.5</th>\n",
       "      <th>1.6</th>\n",
       "      <th>1.7</th>\n",
       "      <th>1.8</th>\n",
       "      <th>1.9</th>\n",
       "      <th>...</th>\n",
       "      <th>0.80</th>\n",
       "      <th>0.81</th>\n",
       "      <th>0.82</th>\n",
       "      <th>0.83</th>\n",
       "      <th>0.84</th>\n",
       "      <th>0.85</th>\n",
       "      <th>0.86</th>\n",
       "      <th>0.87</th>\n",
       "      <th>0.88</th>\n",
       "      <th>0.89</th>\n",
       "    </tr>\n",
       "  </thead>\n",
       "  <tbody>\n",
       "    <tr>\n",
       "      <th>0</th>\n",
       "      <td>0</td>\n",
       "      <td>0</td>\n",
       "      <td>0</td>\n",
       "      <td>0</td>\n",
       "      <td>0</td>\n",
       "      <td>0</td>\n",
       "      <td>0</td>\n",
       "      <td>0</td>\n",
       "      <td>0</td>\n",
       "      <td>0</td>\n",
       "      <td>...</td>\n",
       "      <td>0</td>\n",
       "      <td>0</td>\n",
       "      <td>0</td>\n",
       "      <td>0</td>\n",
       "      <td>0</td>\n",
       "      <td>0</td>\n",
       "      <td>0</td>\n",
       "      <td>0</td>\n",
       "      <td>0</td>\n",
       "      <td>0</td>\n",
       "    </tr>\n",
       "    <tr>\n",
       "      <th>1</th>\n",
       "      <td>1</td>\n",
       "      <td>1</td>\n",
       "      <td>1</td>\n",
       "      <td>1</td>\n",
       "      <td>1</td>\n",
       "      <td>1</td>\n",
       "      <td>1</td>\n",
       "      <td>1</td>\n",
       "      <td>1</td>\n",
       "      <td>1</td>\n",
       "      <td>...</td>\n",
       "      <td>1</td>\n",
       "      <td>1</td>\n",
       "      <td>1</td>\n",
       "      <td>1</td>\n",
       "      <td>1</td>\n",
       "      <td>1</td>\n",
       "      <td>1</td>\n",
       "      <td>1</td>\n",
       "      <td>1</td>\n",
       "      <td>1</td>\n",
       "    </tr>\n",
       "    <tr>\n",
       "      <th>2</th>\n",
       "      <td>1</td>\n",
       "      <td>1</td>\n",
       "      <td>1</td>\n",
       "      <td>1</td>\n",
       "      <td>1</td>\n",
       "      <td>1</td>\n",
       "      <td>1</td>\n",
       "      <td>1</td>\n",
       "      <td>1</td>\n",
       "      <td>1</td>\n",
       "      <td>...</td>\n",
       "      <td>1</td>\n",
       "      <td>1</td>\n",
       "      <td>1</td>\n",
       "      <td>1</td>\n",
       "      <td>1</td>\n",
       "      <td>1</td>\n",
       "      <td>1</td>\n",
       "      <td>1</td>\n",
       "      <td>1</td>\n",
       "      <td>1</td>\n",
       "    </tr>\n",
       "    <tr>\n",
       "      <th>3</th>\n",
       "      <td>1</td>\n",
       "      <td>1</td>\n",
       "      <td>1</td>\n",
       "      <td>1</td>\n",
       "      <td>1</td>\n",
       "      <td>1</td>\n",
       "      <td>1</td>\n",
       "      <td>1</td>\n",
       "      <td>1</td>\n",
       "      <td>1</td>\n",
       "      <td>...</td>\n",
       "      <td>0</td>\n",
       "      <td>0</td>\n",
       "      <td>0</td>\n",
       "      <td>0</td>\n",
       "      <td>0</td>\n",
       "      <td>0</td>\n",
       "      <td>0</td>\n",
       "      <td>0</td>\n",
       "      <td>0</td>\n",
       "      <td>0</td>\n",
       "    </tr>\n",
       "    <tr>\n",
       "      <th>4</th>\n",
       "      <td>0</td>\n",
       "      <td>0</td>\n",
       "      <td>0</td>\n",
       "      <td>0</td>\n",
       "      <td>0</td>\n",
       "      <td>0</td>\n",
       "      <td>1</td>\n",
       "      <td>1</td>\n",
       "      <td>1</td>\n",
       "      <td>1</td>\n",
       "      <td>...</td>\n",
       "      <td>0</td>\n",
       "      <td>0</td>\n",
       "      <td>0</td>\n",
       "      <td>0</td>\n",
       "      <td>0</td>\n",
       "      <td>0</td>\n",
       "      <td>0</td>\n",
       "      <td>0</td>\n",
       "      <td>0</td>\n",
       "      <td>0</td>\n",
       "    </tr>\n",
       "  </tbody>\n",
       "</table>\n",
       "<p>5 rows × 200 columns</p>\n",
       "</div>"
      ],
      "text/plain": [
       "   1  1.1  1.2  1.3  1.4  1.5  1.6  1.7  1.8  1.9  ...  0.80  0.81  0.82  \\\n",
       "0  0    0    0    0    0    0    0    0    0    0  ...     0     0     0   \n",
       "1  1    1    1    1    1    1    1    1    1    1  ...     1     1     1   \n",
       "2  1    1    1    1    1    1    1    1    1    1  ...     1     1     1   \n",
       "3  1    1    1    1    1    1    1    1    1    1  ...     0     0     0   \n",
       "4  0    0    0    0    0    0    1    1    1    1  ...     0     0     0   \n",
       "\n",
       "   0.83  0.84  0.85  0.86  0.87  0.88  0.89  \n",
       "0     0     0     0     0     0     0     0  \n",
       "1     1     1     1     1     1     1     1  \n",
       "2     1     1     1     1     1     1     1  \n",
       "3     0     0     0     0     0     0     0  \n",
       "4     0     0     0     0     0     0     0  \n",
       "\n",
       "[5 rows x 200 columns]"
      ]
     },
     "execution_count": 46,
     "metadata": {},
     "output_type": "execute_result"
    }
   ],
   "source": [
    "df = pd.read_csv(filename)\n",
    "df.head()"
   ]
  },
  {
   "cell_type": "code",
   "execution_count": 47,
   "id": "f481e856",
   "metadata": {},
   "outputs": [],
   "source": [
    "av_tau_u = np.array(df.mean(axis=0))\n",
    "av_tau_0 = av_tau_u[0]\n",
    "new_df = df.mul(df.iloc[:, 0], axis=0)\n",
    "av_tau_product = np.array(new_df.mean(axis=0))\n",
    "\n",
    "corr_func = av_tau_product - av_tau_0 * av_tau_u"
   ]
  },
  {
   "cell_type": "code",
   "execution_count": 48,
   "id": "b5efdbd1",
   "metadata": {},
   "outputs": [],
   "source": [
    "def model_func(t, A, K):\n",
    "    return A * t**(-K)\n",
    "\n",
    "def fit_power_nonlinear(t, y):\n",
    "    opt_parms, parm_cov = sp.optimize.curve_fit(model_func, t, y)\n",
    "    A, K = opt_parms\n",
    "    return A, K\n",
    "\n",
    "def plot(ax, t, y, fit_y, fit_parms):\n",
    "    A, K = fit_parms\n",
    "    ax.plot(t, fit_y, 'b-',\n",
    "    label='Fitted Function:\\n $y = %0.2f x^{-%0.2f}$' % (A, K))\n",
    "    ax.plot(t, y, 'ro')\n",
    "    ax.legend(bbox_to_anchor=(1.05, 1.1), fancybox=True, shadow=True)\n",
    "    \n",
    "def plot_linearised(ax, t, y, fit_y, fit_parms):\n",
    "    A, K = fit_parms\n",
    "    ax.plot(np.log(t), np.log(fit_y), 'b-',\n",
    "    label='Fitted Function:\\n $y = %0.2f-%0.2f x$' % (np.log(A), K))\n",
    "    ax.plot(np.log(t), np.log(y), 'ro')\n",
    "    ax.legend(bbox_to_anchor=(1.05, 1.1), fancybox=True, shadow=True)"
   ]
  },
  {
   "cell_type": "code",
   "execution_count": 49,
   "id": "8a05c3fd",
   "metadata": {},
   "outputs": [],
   "source": [
    "t = np.arange(0, len(corr_func)*tdiff, tdiff)\n",
    "t = t[1:]\n",
    "corr_func = corr_func[1:]"
   ]
  },
  {
   "cell_type": "code",
   "execution_count": 50,
   "id": "bfc51361",
   "metadata": {},
   "outputs": [
    {
     "name": "stdout",
     "output_type": "stream",
     "text": [
      "Correlation time is 2.0398494809672734\n"
     ]
    },
    {
     "data": {
      "image/png": "[encoded data removed]",
      "text/plain": [
       "<Figure size 720x432 with 1 Axes>"
      ]
     },
     "metadata": {
      "needs_background": "light"
     },
     "output_type": "display_data"
    }
   ],
   "source": [
    "fig, ax = plt.subplots(figsize=(10, 6))\n",
    "\n",
    "# Non-linear Fit\n",
    "A, K = fit_power_nonlinear(t, corr_func)\n",
    "print('Correlation time is {}'.format(1.0/K))\n",
    "fit_y = model_func(t, A, K)\n",
    "plot(ax, t, corr_func, fit_y, (A, K))\n",
    "ax.set_title(r'{}: $\\alpha$ = {}  $\\beta$ = {}'.format(title, alpha, beta))\n",
    "ax.set_xlabel('Time after steady state reached')\n",
    "ax.set_ylabel('Correlation function')\n",
    "\n",
    "plt.show()"
   ]
  },
  {
   "cell_type": "code",
   "execution_count": 52,
   "id": "0594f5ae",
   "metadata": {},
   "outputs": [
    {
     "data": {
      "image/png": "[encoded data removed]",
      "text/plain": [
       "<Figure size 720x432 with 1 Axes>"
      ]
     },
     "metadata": {
      "needs_background": "light"
     },
     "output_type": "display_data"
    }
   ],
   "source": [
    "fig, ax = plt.subplots(figsize=(10, 6))\n",
    "\n",
    "plot_linearised(ax, t, corr_func, fit_y, (A, K))\n",
    "ax.set_title(r'{}: $\\alpha$ = {}  $\\beta$ = {}'.format(title, alpha, beta))\n",
    "ax.set_xlabel('ln(Time after steady state reached)')\n",
    "ax.set_ylabel('ln(Correlation function)')\n",
    "\n",
    "plt.show()"
   ]
  }
 ],
 "metadata": {
  "kernelspec": {
   "display_name": "Python 3 (ipykernel)",
   "language": "python",
   "name": "python3"
  },
  "language_info": {
   "codemirror_mode": {
    "name": "ipython",
    "version": 3
   },
   "file_extension": ".py",
   "mimetype": "text/x-python",
   "name": "python",
   "nbconvert_exporter": "python",
   "pygments_lexer": "ipython3",
   "version": "3.7.11"
  }
 },
 "nbformat": 4,
 "nbformat_minor": 5
}
