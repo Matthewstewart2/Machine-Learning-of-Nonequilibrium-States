{
 "cells": [
  {
   "cell_type": "markdown",
   "id": "289e2f14",
   "metadata": {},
   "source": [
    "# Evaluate three complexty metrics on tour of the TASEP phase diagram"
   ]
  },
  {
   "cell_type": "code",
   "execution_count": 25,
   "id": "67df8908",
   "metadata": {},
   "outputs": [],
   "source": [
    "# Standard imports\n",
    "import numpy as np\n",
    "import pandas as pd\n",
    "import tensorflow as tf\n",
    "import matplotlib.pyplot as plt\n",
    "import random\n",
    "from sklearn.model_selection import train_test_split\n",
    "from datetime import datetime"
   ]
  },
  {
   "cell_type": "code",
   "execution_count": 26,
   "id": "9618e2b8",
   "metadata": {},
   "outputs": [],
   "source": [
    "# Imports for curve fitting\n",
    "from iminuit import Minuit\n",
    "from scipy.integrate import quad"
   ]
  },
  {
   "cell_type": "code",
   "execution_count": 27,
   "id": "d4fc8e2b",
   "metadata": {},
   "outputs": [],
   "source": [
    "# Keras imports\n",
    "from tensorflow.python.keras.utils.vis_utils import plot_model\n",
    "from tensorflow.python.keras.models import Model, Sequential\n",
    "from tensorflow.python.keras.layers import Input, Dense, Dropout, Flatten, Reshape, Conv2D, Conv2DTranspose, Concatenate, Lambda,BatchNormalization, MaxPooling2D, UpSampling2D\n",
    "from tensorflow.python.keras import backend as K\n",
    "from tensorflow.python.keras.losses import binary_crossentropy\n",
    "from tensorflow.python.keras.layers.advanced_activations import LeakyReLU\n",
    "from tensorflow.python.keras.backend import set_image_data_format\n",
    "from tensorflow.keras.optimizers import Adam\n",
    "from tensorflow.python.framework.ops import disable_eager_execution\n",
    "disable_eager_execution()"
   ]
  },
  {
   "cell_type": "code",
   "execution_count": 28,
   "id": "ffae52cf",
   "metadata": {},
   "outputs": [
    {
     "name": "stdout",
     "output_type": "stream",
     "text": [
      "Current Time = 03:26:33\n"
     ]
    }
   ],
   "source": [
    "now = datetime.now()\n",
    "\n",
    "current_time = now.strftime(\"%H:%M:%S\")\n",
    "print(\"Current Time =\", current_time)"
   ]
  },
  {
   "cell_type": "code",
   "execution_count": 29,
   "id": "3762baad",
   "metadata": {},
   "outputs": [],
   "source": [
    "def load_dataset(a, b):\n",
    "    #\n",
    "    num_snaps = 20000\n",
    "    tdiff = 9.0\n",
    "    grid_dataset_list = []\n",
    "    file_index = 1\n",
    "    #alphas = np.linspace(0.2, 0.8, 4)\n",
    "    #betas = np.linspace(0.2, 0.8, 4)\n",
    "    \n",
    "    grid_pt_data = pd.read_csv(\"RealTimeSnaps{}alpha{}beta{}tdiff{}.csv\".format(num_snaps, a, b, tdiff), header=None)\n",
    "    grid_pt_data['y'] = [file_index] * grid_pt_data.shape[0]\n",
    "    grid_dataset_list.append(grid_pt_data)\n",
    "    print('Alpha, Beta is {} and given label {}'.format((a, b), file_index))\n",
    "    file_index += 1\n",
    "    \n",
    "    grid_dataset = pd.concat(grid_dataset_list)\n",
    "\n",
    "    X = grid_dataset.iloc[:, :-1]\n",
    "    y = grid_dataset.iloc[:, -1]\n",
    "    \n",
    "    return X, y, file_index"
   ]
  },
  {
   "cell_type": "code",
   "execution_count": 30,
   "id": "7870fc5b",
   "metadata": {},
   "outputs": [
    {
     "name": "stdout",
     "output_type": "stream",
     "text": [
      "Alpha, Beta is (0.2, 0.2) and given label 1\n",
      "Alpha, Beta is (0.2, 0.4) and given label 1\n",
      "Alpha, Beta is (0.4, 0.2) and given label 1\n",
      "Alpha, Beta is (0.2, 0.6) and given label 1\n",
      "Alpha, Beta is (0.6, 0.2) and given label 1\n",
      "Alpha, Beta is (0.2, 0.8) and given label 1\n",
      "Alpha, Beta is (0.8, 0.2) and given label 1\n",
      "Alpha, Beta is (0.4, 0.8) and given label 1\n",
      "Alpha, Beta is (0.8, 0.4) and given label 1\n",
      "Alpha, Beta is (0.5, 0.8) and given label 1\n",
      "Alpha, Beta is (0.8, 0.5) and given label 1\n",
      "Alpha, Beta is (0.8, 0.8) and given label 1\n"
     ]
    }
   ],
   "source": [
    "X_trains = []\n",
    "X_tests = []\n",
    "y_trains = []\n",
    "y_tests = []\n",
    "\n",
    "X1, y1, file_index1 = load_dataset(0.2, 0.2)\n",
    "X1_train, X1_test, y1_train, y1_test = train_test_split(X1, y1, test_size=0.5)\n",
    "X_trains.append(X1_train)\n",
    "X_tests.append(X1_test)\n",
    "y_trains.append(y1_train)\n",
    "y_trains.append(y1_train)\n",
    "\n",
    "X2, y2, file_index2 = load_dataset(0.2, 0.4)\n",
    "X2_train, X2_test, y2_train, y2_test = train_test_split(X2, y2, test_size=0.5)\n",
    "X_trains.append(X2_train)\n",
    "X_tests.append(X2_test)\n",
    "y_trains.append(y2_train)\n",
    "y_trains.append(y2_train)\n",
    "\n",
    "X3, y3, file_index3 = load_dataset(0.4, 0.2)\n",
    "X3_train, X3_test, y3_train, y3_test = train_test_split(X3, y3, test_size=0.5)\n",
    "X_trains.append(X3_train)\n",
    "X_tests.append(X3_test)\n",
    "y_trains.append(y3_train)\n",
    "y_trains.append(y3_train)\n",
    "\n",
    "X4, y4, file_index4 = load_dataset(0.2, 0.6)\n",
    "X4_train, X4_test, y4_train, y4_test = train_test_split(X4, y4, test_size=0.5)\n",
    "X_trains.append(X4_train)\n",
    "X_tests.append(X4_test)\n",
    "y_trains.append(y4_train)\n",
    "y_trains.append(y4_train)\n",
    "\n",
    "X5, y5, file_index5 = load_dataset(0.6, 0.2)\n",
    "X5_train, X5_test, y5_train, y5_test = train_test_split(X5, y5, test_size=0.5)\n",
    "X_trains.append(X5_train)\n",
    "X_tests.append(X5_test)\n",
    "y_trains.append(y5_train)\n",
    "y_trains.append(y5_train)\n",
    "\n",
    "X6, y6, file_index6 = load_dataset(0.2, 0.8)\n",
    "X6_train, X6_test, y6_train, y6_test = train_test_split(X6, y6, test_size=0.5)\n",
    "X_trains.append(X6_train)\n",
    "X_tests.append(X6_test)\n",
    "y_trains.append(y6_train)\n",
    "y_trains.append(y6_train)\n",
    "\n",
    "X7, y7, file_index7 = load_dataset(0.8, 0.2)\n",
    "X7_train, X7_test, y7_train, y7_test = train_test_split(X7, y7, test_size=0.5)\n",
    "X_trains.append(X7_train)\n",
    "X_tests.append(X7_test)\n",
    "y_trains.append(y7_train)\n",
    "y_trains.append(y7_train)\n",
    "\n",
    "X8, y8, file_index8 = load_dataset(0.4, 0.8)\n",
    "X8_train, X8_test, y8_train, y8_test = train_test_split(X8, y8, test_size=0.5)\n",
    "X_trains.append(X8_train)\n",
    "X_tests.append(X8_test)\n",
    "y_trains.append(y8_train)\n",
    "y_trains.append(y8_train)\n",
    "\n",
    "X9, y9, file_index9 = load_dataset(0.8, 0.4)\n",
    "X9_train, X9_test, y9_train, y9_test = train_test_split(X9, y9, test_size=0.5)\n",
    "X_trains.append(X9_train)\n",
    "X_tests.append(X9_test)\n",
    "y_trains.append(y9_train)\n",
    "y_trains.append(y9_train)\n",
    "\n",
    "X10, y10, file_index10 = load_dataset(0.5, 0.8)\n",
    "X10_train, X10_test, y10_train, y10_test = train_test_split(X10, y10, test_size=0.5)\n",
    "X_trains.append(X10_train)\n",
    "X_tests.append(X10_test)\n",
    "y_trains.append(y10_train)\n",
    "y_trains.append(y10_train)\n",
    "\n",
    "X11, y11, file_index11 = load_dataset(0.8, 0.5)\n",
    "X11_train, X11_test, y11_train, y11_test = train_test_split(X11, y11, test_size=0.5)\n",
    "X_trains.append(X11_train)\n",
    "X_tests.append(X11_test)\n",
    "y_trains.append(y11_train)\n",
    "y_trains.append(y11_train)\n",
    "\n",
    "X12, y12, file_index12 = load_dataset(0.8, 0.8)\n",
    "X12_train, X12_test, y12_train, y12_test = train_test_split(X12, y12, test_size=0.5)\n",
    "X_trains.append(X12_train)\n",
    "X_tests.append(X12_test)\n",
    "y_trains.append(y12_train)\n",
    "y_trains.append(y12_train)"
   ]
  },
  {
   "cell_type": "code",
   "execution_count": 31,
   "id": "60fa6b5c",
   "metadata": {},
   "outputs": [],
   "source": [
    "class VAE:\n",
    "    #\n",
    "    def __init__(self, idnum, original_dim=100, intermediate_dim1=75, intermediate_dim2=50, latent_dim=1):\n",
    "        #\n",
    "        self.original_dim = original_dim\n",
    "        self.latent_dim = latent_dim\n",
    "        self.intermediate_dim1 = intermediate_dim1\n",
    "        self.intermediate_dim2 = intermediate_dim2\n",
    "        self.idnum = idnum\n",
    "        \n",
    "    def sampling(self, args):\n",
    "        # Unpack arguments\n",
    "        z_mean, z_log_var = args\n",
    "        # Get shape of random noise to sample\n",
    "        epsilon = K.random_normal(shape=K.shape(z_mean))\n",
    "        # Return samples from latent space p.d.f.\n",
    "        return z_mean + K.exp(0.5 * z_log_var) * epsilon\n",
    "    \n",
    "    def build_vae(self):\n",
    "        #\n",
    "        original_dim = self.original_dim\n",
    "        latent_dim = self.latent_dim\n",
    "        intermediate_dim1 = self.intermediate_dim1\n",
    "        intermediate_dim2 = self.intermediate_dim2\n",
    "        \n",
    "        # encoder\n",
    "        inputs = Input(original_dim, name='input')\n",
    "        x = Dense(intermediate_dim1, activation='relu')(inputs)\n",
    "        x = Dense(intermediate_dim2, activation='relu')(x)\n",
    "        z_mean = Dense(latent_dim, name=\"z_mean\")(x)\n",
    "        z_log_var = Dense(latent_dim, name=\"z_log_var\")(x)\n",
    "        z = Lambda(self.sampling, output_shape=(latent_dim, ), name='z')([z_mean, z_log_var])\n",
    "        self.encoder = Model(inputs, [z_mean, z_log_var, z], name='encoder')\n",
    "        \n",
    "        #decoder\n",
    "        latent_inputs = Input(shape=(latent_dim,), name='z_sampling')\n",
    "        x = Dense(intermediate_dim2, activation='relu')(latent_inputs)\n",
    "        x = Dense(intermediate_dim1, activation='relu')(x)\n",
    "        outputs = Dense(original_dim, activation='sigmoid')(x)\n",
    "        self.decoder = Model(latent_inputs, outputs, name='decoder')\n",
    "        \n",
    "        i = self.encoder.inputs\n",
    "        if len(i) == 1:\n",
    "            i = i[0]\n",
    "            pass\n",
    "        z = self.encoder(i)[2]\n",
    "        o = self.decoder(z)\n",
    "        self.vae = Model(i, o, name='VAE'+str(self.idnum))\n",
    "        \n",
    "    def compile_vae(self):\n",
    "        # Get the latent p.d.f. mean and log-variance output layers from VAE encoder\n",
    "        encoder   = self.vae.get_layer('encoder')\n",
    "        z_log_var = encoder.get_layer('z_log_var').output\n",
    "        z_mean    = encoder.get_layer('z_mean').output\n",
    "\n",
    "        # Define reconstruction loss\n",
    "        def reco_loss(y_true, y_pred):\n",
    "            # Use binary cross-entropy loss\n",
    "            reco_loss_value = binary_crossentropy(y_true, y_pred) # Averages over axis=-1\n",
    "            reco_loss_value = K.sum(reco_loss_value)\n",
    "            return reco_loss_value\n",
    "\n",
    "        # Define Kullback-Leibler loss with reference to encoder output layers\n",
    "        def kl_loss(y_true, y_pred):\n",
    "            kl_loss_value = 0.5 * (K.square(z_mean) + K.exp(z_log_var) - 1. - z_log_var)\n",
    "            kl_loss_value = K.sum(kl_loss_value, axis=-1)\n",
    "            return kl_loss_value\n",
    "\n",
    "        # Define VAE loss\n",
    "        def vae_loss(y_true, y_pred):\n",
    "            return reco_loss(y_true, y_pred) + kl_loss(y_true, y_pred)\n",
    "\n",
    "        self.vae.compile(optimizer='adam', loss=vae_loss, metrics=[reco_loss, kl_loss])\n",
    "        return\n",
    "    \n",
    "    def get_summaries(self):\n",
    "        #\n",
    "        return [self.encoder.summary(),\n",
    "                self.decoder.summary(),\n",
    "                self.vae.summary()]\n",
    "    \n",
    "    def get_architectures(self):\n",
    "        #\n",
    "        return [plot_model(self.encoder, show_shapes=True),\n",
    "                plot_model(self.decoder, show_shapes=True),\n",
    "                plot_model(self.vae, show_shapes=True)]"
   ]
  },
  {
   "cell_type": "code",
   "execution_count": 32,
   "id": "7e025154",
   "metadata": {},
   "outputs": [],
   "source": [
    "VAEs = []\n",
    "for i in range(12):\n",
    "    Vae = VAE(i)\n",
    "    Vae.build_vae()\n",
    "    Vae.compile_vae()\n",
    "    VAEs.append(Vae)"
   ]
  },
  {
   "cell_type": "code",
   "execution_count": 33,
   "id": "33d06627",
   "metadata": {},
   "outputs": [],
   "source": [
    "nb_epochs  = 10\n",
    "batch_size = 32"
   ]
  },
  {
   "cell_type": "code",
   "execution_count": 34,
   "id": "60e4e043",
   "metadata": {},
   "outputs": [],
   "source": [
    "histories = []\n",
    "for i in range(len(VAEs)):\n",
    "    history = VAEs[i].vae.fit(X_trains[i], X_trains[i],\n",
    "                              epochs=nb_epochs,\n",
    "                              batch_size=batch_size,\n",
    "                              shuffle=True,\n",
    "                              validation_split=0.2,\n",
    "                              verbose=False)\n",
    "    histories.append(history)"
   ]
  },
  {
   "cell_type": "code",
   "execution_count": 35,
   "id": "5b3ac1a8",
   "metadata": {},
   "outputs": [],
   "source": [
    "def plot_losses(vae_history, name, ax):\n",
    "    #\n",
    "    ax.plot(vae_history.history['loss'], label= name+' training loss')\n",
    "    ax.plot(vae_history.history['reco_loss'], label=name+' training reconstruction loss')\n",
    "    #ax.plot(vae_history.history['kl_loss'], label=name+' training kl loss')\n",
    "    ax.plot(vae_history.history['val_loss'], label=name+' validation loss')\n",
    "    ax.plot(vae_history.history['val_reco_loss'], label=name+' validation reconstruction loss')\n",
    "    #ax.plot(vae_history.history['val_kl_loss'], label=name+' validation kl loss')\n",
    "    ax.legend(loc=\"best\")"
   ]
  },
  {
   "cell_type": "code",
   "execution_count": 36,
   "id": "69c97652",
   "metadata": {},
   "outputs": [],
   "source": [
    "def plot_z_distribution(z_samples, fit_mu, fit_sigma, name, ax):\n",
    "    #\n",
    "    counts, bin_edges, _ = ax.hist(z_samples[:, 0],bins='auto', density=True, label=name+' z samples')\n",
    "    tot_bin_edges = np.array(bin_edges)\n",
    "    half_bin_width = (tot_bin_edges[1] - tot_bin_edges[0]) / 2.\n",
    "    zs = (tot_bin_edges + half_bin_width)[:-1]\n",
    "    ax.plot(zs, gaussian_pdf(zs, fit_mu, fit_sigma), label=name+' Gaussian fit')\n",
    "    ax.legend(loc=\"best\")"
   ]
  },
  {
   "cell_type": "code",
   "execution_count": 37,
   "id": "5a8f88bc",
   "metadata": {},
   "outputs": [],
   "source": [
    "def plot_z_example(z, decoder, name, ax):\n",
    "    #\n",
    "    ax.scatter(list(range(100)), decoder.predict(np.array([z])), label=name+' z = '+str(z))\n",
    "    ax.set_ylim(0, 1)\n",
    "    ax.legend()"
   ]
  },
  {
   "cell_type": "code",
   "execution_count": 38,
   "id": "e6bf0438",
   "metadata": {},
   "outputs": [],
   "source": [
    "def gaussian_pdf(z, mu, sigma):\n",
    "    #\n",
    "    return (1./(sigma*np.sqrt(2*np.pi))) * np.exp(-0.5 * ((z - mu)/sigma)**2)"
   ]
  },
  {
   "cell_type": "code",
   "execution_count": 39,
   "id": "c9ab1feb",
   "metadata": {},
   "outputs": [],
   "source": [
    "def nllmf(mu, sigma):\n",
    "    #\n",
    "    return -1 * np.sum(np.log(gaussian_pdf(mfz_samples, mu, sigma)))"
   ]
  },
  {
   "cell_type": "code",
   "execution_count": 40,
   "id": "edacded1",
   "metadata": {},
   "outputs": [],
   "source": [
    "def nllcx(mu, sigma):\n",
    "    #\n",
    "    return -1 * np.sum(np.log(gaussian_pdf(cxz_samples, mu, sigma)))"
   ]
  },
  {
   "cell_type": "code",
   "execution_count": 41,
   "id": "71cfb077",
   "metadata": {},
   "outputs": [],
   "source": [
    "zsamples_list = []\n",
    "for i in range(len(VAEs)):\n",
    "    _, _, zsamples = VAEs[i].encoder.predict(X_tests[i])\n",
    "    zsamples_list.append(zsamples)"
   ]
  },
  {
   "cell_type": "code",
   "execution_count": 42,
   "id": "50dceea6",
   "metadata": {},
   "outputs": [],
   "source": [
    "lat_length = 100\n",
    "#zstart = -4.\n",
    "#zstop = 4.\n",
    "#znum = 1000\n",
    "#zrange = np.linspace(zstart, zstop, znum)\n",
    "num_pts = 1000"
   ]
  },
  {
   "cell_type": "code",
   "execution_count": 43,
   "id": "c1ad6cb8",
   "metadata": {},
   "outputs": [],
   "source": [
    "def config_taus(rhos):\n",
    "    #\n",
    "    taus = np.zeros(lat_length)\n",
    "    for i in range(lat_length):\n",
    "        if random.random() <= rhos[i]:\n",
    "            taus[i] = 1\n",
    "    return taus"
   ]
  },
  {
   "cell_type": "code",
   "execution_count": 44,
   "id": "2626a879",
   "metadata": {},
   "outputs": [],
   "source": [
    "def calc_mfpoftaus(rhos, taus):\n",
    "    #\n",
    "    return np.prod(rhos**taus * (1-rhos)**(1-taus))"
   ]
  },
  {
   "cell_type": "code",
   "execution_count": 45,
   "id": "3a0420ee",
   "metadata": {},
   "outputs": [],
   "source": [
    "def calc_complexity1(z_samples, decoder):\n",
    "    avg_1 = 0\n",
    "    for i in range(num_pts):\n",
    "        sample0 = random.choice(z_samples)\n",
    "        rhos0 = decoder.predict(np.array([sample0]))[0]  \n",
    "        taus0 = config_taus(rhos0)\n",
    "        avg_0 = 0\n",
    "        for i in range(num_pts):\n",
    "            sample1 = random.choice(z_samples)\n",
    "            rhos1 = decoder.predict(np.array([sample1]))[0]  \n",
    "            avg_0 += calc_mfpoftaus(rhos1, taus0)\n",
    "        avg_0 /= num_pts\n",
    "        avg_1 += np.log(avg_0)\n",
    "    avg_1 /= num_pts\n",
    "    \n",
    "    avg_2 = 0\n",
    "    for i in range(num_pts):\n",
    "        sample2 = random.choice(z_samples)\n",
    "        rhos2 = decoder.predict(np.array([sample2]))[0]\n",
    "        avg_0b = 0\n",
    "        for i in range(num_pts):\n",
    "            sample_prime = random.choice(z_samples)\n",
    "            rhos_prime = decoder.predict(np.array([sample_prime]))[0]\n",
    "            taus_prime = config_taus(rhos_prime)\n",
    "            avg_0b += np.log(calc_mfpoftaus(rhos2, taus_prime))\n",
    "        avg_0b /= num_pts\n",
    "        avg_2 += avg_0b\n",
    "    avg_2 /= num_pts\n",
    "    \n",
    "    return avg_1 - avg_2"
   ]
  },
  {
   "cell_type": "code",
   "execution_count": 46,
   "id": "16345aa8",
   "metadata": {},
   "outputs": [
    {
     "name": "stdout",
     "output_type": "stream",
     "text": [
      "Done complexity1:  0\n",
      "Done complexity1:  1\n",
      "Done complexity1:  2\n"
     ]
    },
    {
     "ename": "KeyboardInterrupt",
     "evalue": "",
     "output_type": "error",
     "traceback": [
      "\u001b[1;31m---------------------------------------------------------------------------\u001b[0m",
      "\u001b[1;31mKeyboardInterrupt\u001b[0m                         Traceback (most recent call last)",
      "\u001b[1;32m~\\AppData\\Local\\Temp/ipykernel_15168/625166805.py\u001b[0m in \u001b[0;36m<module>\u001b[1;34m\u001b[0m\n\u001b[0;32m      1\u001b[0m \u001b[0mcomplexities1\u001b[0m \u001b[1;33m=\u001b[0m \u001b[1;33m[\u001b[0m\u001b[1;33m]\u001b[0m\u001b[1;33m\u001b[0m\u001b[1;33m\u001b[0m\u001b[0m\n\u001b[0;32m      2\u001b[0m \u001b[1;32mfor\u001b[0m \u001b[0mi\u001b[0m \u001b[1;32min\u001b[0m \u001b[0mrange\u001b[0m\u001b[1;33m(\u001b[0m\u001b[0mlen\u001b[0m\u001b[1;33m(\u001b[0m\u001b[0mzsamples_list\u001b[0m\u001b[1;33m)\u001b[0m\u001b[1;33m)\u001b[0m\u001b[1;33m:\u001b[0m\u001b[1;33m\u001b[0m\u001b[1;33m\u001b[0m\u001b[0m\n\u001b[1;32m----> 3\u001b[1;33m     \u001b[0mcomplexity1\u001b[0m \u001b[1;33m=\u001b[0m \u001b[0mcalc_complexity1\u001b[0m\u001b[1;33m(\u001b[0m\u001b[0mzsamples_list\u001b[0m\u001b[1;33m[\u001b[0m\u001b[0mi\u001b[0m\u001b[1;33m]\u001b[0m\u001b[1;33m,\u001b[0m \u001b[0mVAEs\u001b[0m\u001b[1;33m[\u001b[0m\u001b[0mi\u001b[0m\u001b[1;33m]\u001b[0m\u001b[1;33m.\u001b[0m\u001b[0mdecoder\u001b[0m\u001b[1;33m)\u001b[0m\u001b[1;33m\u001b[0m\u001b[1;33m\u001b[0m\u001b[0m\n\u001b[0m\u001b[0;32m      4\u001b[0m     \u001b[0mcomplexities1\u001b[0m\u001b[1;33m.\u001b[0m\u001b[0mappend\u001b[0m\u001b[1;33m(\u001b[0m\u001b[0mcomplexity1\u001b[0m\u001b[1;33m)\u001b[0m\u001b[1;33m\u001b[0m\u001b[1;33m\u001b[0m\u001b[0m\n\u001b[0;32m      5\u001b[0m     \u001b[0mprint\u001b[0m\u001b[1;33m(\u001b[0m\u001b[1;34m'Done complexity1: '\u001b[0m\u001b[1;33m,\u001b[0m\u001b[0mi\u001b[0m\u001b[1;33m)\u001b[0m\u001b[1;33m\u001b[0m\u001b[1;33m\u001b[0m\u001b[0m\n",
      "\u001b[1;32m~\\AppData\\Local\\Temp/ipykernel_15168/3906807452.py\u001b[0m in \u001b[0;36mcalc_complexity1\u001b[1;34m(z_samples, decoder)\u001b[0m\n\u001b[0;32m      8\u001b[0m         \u001b[1;32mfor\u001b[0m \u001b[0mi\u001b[0m \u001b[1;32min\u001b[0m \u001b[0mrange\u001b[0m\u001b[1;33m(\u001b[0m\u001b[0mnum_pts\u001b[0m\u001b[1;33m)\u001b[0m\u001b[1;33m:\u001b[0m\u001b[1;33m\u001b[0m\u001b[1;33m\u001b[0m\u001b[0m\n\u001b[0;32m      9\u001b[0m             \u001b[0msample1\u001b[0m \u001b[1;33m=\u001b[0m \u001b[0mrandom\u001b[0m\u001b[1;33m.\u001b[0m\u001b[0mchoice\u001b[0m\u001b[1;33m(\u001b[0m\u001b[0mz_samples\u001b[0m\u001b[1;33m)\u001b[0m\u001b[1;33m\u001b[0m\u001b[1;33m\u001b[0m\u001b[0m\n\u001b[1;32m---> 10\u001b[1;33m             \u001b[0mrhos1\u001b[0m \u001b[1;33m=\u001b[0m \u001b[0mdecoder\u001b[0m\u001b[1;33m.\u001b[0m\u001b[0mpredict\u001b[0m\u001b[1;33m(\u001b[0m\u001b[0mnp\u001b[0m\u001b[1;33m.\u001b[0m\u001b[0marray\u001b[0m\u001b[1;33m(\u001b[0m\u001b[1;33m[\u001b[0m\u001b[0msample1\u001b[0m\u001b[1;33m]\u001b[0m\u001b[1;33m)\u001b[0m\u001b[1;33m)\u001b[0m\u001b[1;33m[\u001b[0m\u001b[1;36m0\u001b[0m\u001b[1;33m]\u001b[0m\u001b[1;33m\u001b[0m\u001b[1;33m\u001b[0m\u001b[0m\n\u001b[0m\u001b[0;32m     11\u001b[0m             \u001b[0mavg_0\u001b[0m \u001b[1;33m+=\u001b[0m \u001b[0mcalc_mfpoftaus\u001b[0m\u001b[1;33m(\u001b[0m\u001b[0mrhos1\u001b[0m\u001b[1;33m,\u001b[0m \u001b[0mtaus0\u001b[0m\u001b[1;33m)\u001b[0m\u001b[1;33m\u001b[0m\u001b[1;33m\u001b[0m\u001b[0m\n\u001b[0;32m     12\u001b[0m         \u001b[0mavg_0\u001b[0m \u001b[1;33m/=\u001b[0m \u001b[0mnum_pts\u001b[0m\u001b[1;33m\u001b[0m\u001b[1;33m\u001b[0m\u001b[0m\n",
      "\u001b[1;32m~\\Anaconda3\\envs\\daml2\\lib\\site-packages\\tensorflow\\python\\keras\\engine\\training_v1.py\u001b[0m in \u001b[0;36mpredict\u001b[1;34m(self, x, batch_size, verbose, steps, callbacks, max_queue_size, workers, use_multiprocessing)\u001b[0m\n\u001b[0;32m    995\u001b[0m         \u001b[0mmax_queue_size\u001b[0m\u001b[1;33m=\u001b[0m\u001b[0mmax_queue_size\u001b[0m\u001b[1;33m,\u001b[0m\u001b[1;33m\u001b[0m\u001b[1;33m\u001b[0m\u001b[0m\n\u001b[0;32m    996\u001b[0m         \u001b[0mworkers\u001b[0m\u001b[1;33m=\u001b[0m\u001b[0mworkers\u001b[0m\u001b[1;33m,\u001b[0m\u001b[1;33m\u001b[0m\u001b[1;33m\u001b[0m\u001b[0m\n\u001b[1;32m--> 997\u001b[1;33m         use_multiprocessing=use_multiprocessing)\n\u001b[0m\u001b[0;32m    998\u001b[0m \u001b[1;33m\u001b[0m\u001b[0m\n\u001b[0;32m    999\u001b[0m   \u001b[1;32mdef\u001b[0m \u001b[0mreset_metrics\u001b[0m\u001b[1;33m(\u001b[0m\u001b[0mself\u001b[0m\u001b[1;33m)\u001b[0m\u001b[1;33m:\u001b[0m\u001b[1;33m\u001b[0m\u001b[1;33m\u001b[0m\u001b[0m\n",
      "\u001b[1;32m~\\Anaconda3\\envs\\daml2\\lib\\site-packages\\tensorflow\\python\\keras\\engine\\training_arrays_v1.py\u001b[0m in \u001b[0;36mpredict\u001b[1;34m(self, model, x, batch_size, verbose, steps, callbacks, **kwargs)\u001b[0m\n\u001b[0;32m    707\u001b[0m         \u001b[0mverbose\u001b[0m\u001b[1;33m=\u001b[0m\u001b[0mverbose\u001b[0m\u001b[1;33m,\u001b[0m\u001b[1;33m\u001b[0m\u001b[1;33m\u001b[0m\u001b[0m\n\u001b[0;32m    708\u001b[0m         \u001b[0msteps\u001b[0m\u001b[1;33m=\u001b[0m\u001b[0msteps\u001b[0m\u001b[1;33m,\u001b[0m\u001b[1;33m\u001b[0m\u001b[1;33m\u001b[0m\u001b[0m\n\u001b[1;32m--> 709\u001b[1;33m         callbacks=callbacks)\n\u001b[0m",
      "\u001b[1;32m~\\Anaconda3\\envs\\daml2\\lib\\site-packages\\tensorflow\\python\\keras\\engine\\training_arrays_v1.py\u001b[0m in \u001b[0;36mmodel_iteration\u001b[1;34m(model, inputs, targets, sample_weights, batch_size, epochs, verbose, callbacks, val_inputs, val_targets, val_sample_weights, shuffle, initial_epoch, steps_per_epoch, validation_steps, validation_freq, mode, validation_in_fit, prepared_feed_values_from_dataset, steps_name, **kwargs)\u001b[0m\n\u001b[0;32m    378\u001b[0m \u001b[1;33m\u001b[0m\u001b[0m\n\u001b[0;32m    379\u001b[0m         \u001b[1;31m# Get outputs.\u001b[0m\u001b[1;33m\u001b[0m\u001b[1;33m\u001b[0m\u001b[1;33m\u001b[0m\u001b[0m\n\u001b[1;32m--> 380\u001b[1;33m         \u001b[0mbatch_outs\u001b[0m \u001b[1;33m=\u001b[0m \u001b[0mf\u001b[0m\u001b[1;33m(\u001b[0m\u001b[0mins_batch\u001b[0m\u001b[1;33m)\u001b[0m\u001b[1;33m\u001b[0m\u001b[1;33m\u001b[0m\u001b[0m\n\u001b[0m\u001b[0;32m    381\u001b[0m         \u001b[1;32mif\u001b[0m \u001b[1;32mnot\u001b[0m \u001b[0misinstance\u001b[0m\u001b[1;33m(\u001b[0m\u001b[0mbatch_outs\u001b[0m\u001b[1;33m,\u001b[0m \u001b[0mlist\u001b[0m\u001b[1;33m)\u001b[0m\u001b[1;33m:\u001b[0m\u001b[1;33m\u001b[0m\u001b[1;33m\u001b[0m\u001b[0m\n\u001b[0;32m    382\u001b[0m           \u001b[0mbatch_outs\u001b[0m \u001b[1;33m=\u001b[0m \u001b[1;33m[\u001b[0m\u001b[0mbatch_outs\u001b[0m\u001b[1;33m]\u001b[0m\u001b[1;33m\u001b[0m\u001b[1;33m\u001b[0m\u001b[0m\n",
      "\u001b[1;32m~\\Anaconda3\\envs\\daml2\\lib\\site-packages\\tensorflow\\python\\keras\\backend.py\u001b[0m in \u001b[0;36m__call__\u001b[1;34m(self, inputs)\u001b[0m\n\u001b[0;32m   4066\u001b[0m \u001b[1;33m\u001b[0m\u001b[0m\n\u001b[0;32m   4067\u001b[0m     fetched = self._callable_fn(*array_vals,\n\u001b[1;32m-> 4068\u001b[1;33m                                 run_metadata=self.run_metadata)\n\u001b[0m\u001b[0;32m   4069\u001b[0m     \u001b[0mself\u001b[0m\u001b[1;33m.\u001b[0m\u001b[0m_call_fetch_callbacks\u001b[0m\u001b[1;33m(\u001b[0m\u001b[0mfetched\u001b[0m\u001b[1;33m[\u001b[0m\u001b[1;33m-\u001b[0m\u001b[0mlen\u001b[0m\u001b[1;33m(\u001b[0m\u001b[0mself\u001b[0m\u001b[1;33m.\u001b[0m\u001b[0m_fetches\u001b[0m\u001b[1;33m)\u001b[0m\u001b[1;33m:\u001b[0m\u001b[1;33m]\u001b[0m\u001b[1;33m)\u001b[0m\u001b[1;33m\u001b[0m\u001b[1;33m\u001b[0m\u001b[0m\n\u001b[0;32m   4070\u001b[0m     output_structure = nest.pack_sequence_as(\n",
      "\u001b[1;32m~\\Anaconda3\\envs\\daml2\\lib\\site-packages\\tensorflow\\python\\client\\session.py\u001b[0m in \u001b[0;36m__call__\u001b[1;34m(self, *args, **kwargs)\u001b[0m\n\u001b[0;32m   1478\u001b[0m         ret = tf_session.TF_SessionRunCallable(self._session._session,\n\u001b[0;32m   1479\u001b[0m                                                \u001b[0mself\u001b[0m\u001b[1;33m.\u001b[0m\u001b[0m_handle\u001b[0m\u001b[1;33m,\u001b[0m \u001b[0margs\u001b[0m\u001b[1;33m,\u001b[0m\u001b[1;33m\u001b[0m\u001b[1;33m\u001b[0m\u001b[0m\n\u001b[1;32m-> 1480\u001b[1;33m                                                run_metadata_ptr)\n\u001b[0m\u001b[0;32m   1481\u001b[0m         \u001b[1;32mif\u001b[0m \u001b[0mrun_metadata\u001b[0m\u001b[1;33m:\u001b[0m\u001b[1;33m\u001b[0m\u001b[1;33m\u001b[0m\u001b[0m\n\u001b[0;32m   1482\u001b[0m           \u001b[0mproto_data\u001b[0m \u001b[1;33m=\u001b[0m \u001b[0mtf_session\u001b[0m\u001b[1;33m.\u001b[0m\u001b[0mTF_GetBuffer\u001b[0m\u001b[1;33m(\u001b[0m\u001b[0mrun_metadata_ptr\u001b[0m\u001b[1;33m)\u001b[0m\u001b[1;33m\u001b[0m\u001b[1;33m\u001b[0m\u001b[0m\n",
      "\u001b[1;31mKeyboardInterrupt\u001b[0m: "
     ]
    }
   ],
   "source": [
    "complexities1 = []\n",
    "for i in range(len(zsamples_list)):\n",
    "    complexity1 = calc_complexity1(zsamples_list[i], VAEs[i].decoder)\n",
    "    complexities1.append(complexity1)\n",
    "    print('Done complexity1: ',i)"
   ]
  },
  {
   "cell_type": "code",
   "execution_count": null,
   "id": "4e91b66b",
   "metadata": {},
   "outputs": [],
   "source": [
    "now = datetime.now()\n",
    "\n",
    "current_time = now.strftime(\"%H:%M:%S\")\n",
    "print(\"Current Time =\", current_time)"
   ]
  },
  {
   "cell_type": "code",
   "execution_count": null,
   "id": "ecd86a99",
   "metadata": {},
   "outputs": [],
   "source": [
    "def calc_complexity2(z_samples, decoder):\n",
    "    avg_A = 0\n",
    "    for i in range(num_pts):\n",
    "        sample_A = random.choice(z_samples)\n",
    "        rhos_A = decoder.predict(np.array([sample_A]))[0]\n",
    "        sum_A = np.sum(rhos_A*np.log(rhos_A) + (1-rhos_A)*np.log(1-rhos_A))\n",
    "        avg_A += sum_A\n",
    "    avg_A /= num_pts\n",
    "    \n",
    "    avg_rhos = 0\n",
    "    for i in range(num_pts):\n",
    "        sample_B = random.choice(z_samples)\n",
    "        rhos_B = decoder.predict(np.array([sample_B]))[0]\n",
    "        avg_rhos += rhos_B\n",
    "    avg_rhos /= num_pts\n",
    "    sum_B = np.sum(avg_rhos*np.log(avg_rhos) + (1-avg_rhos)*np.log(1-avg_rhos))\n",
    "    \n",
    "    return avg_A - sum_B"
   ]
  },
  {
   "cell_type": "code",
   "execution_count": null,
   "id": "63bb50dd",
   "metadata": {},
   "outputs": [],
   "source": [
    "complexities2 = []\n",
    "for i in range(len(zsamples_list)):\n",
    "    complexity2 = calc_complexity2(zsamples_list[i], VAEs[i].decoder)\n",
    "    complexities2.append(complexity2)\n",
    "    print('Done complexity2: ',i)"
   ]
  },
  {
   "cell_type": "code",
   "execution_count": null,
   "id": "33a7e1b8",
   "metadata": {},
   "outputs": [],
   "source": [
    "now = datetime.now()\n",
    "\n",
    "current_time = now.strftime(\"%H:%M:%S\")\n",
    "print(\"Current Time =\", current_time)"
   ]
  },
  {
   "cell_type": "code",
   "execution_count": null,
   "id": "f573c17c",
   "metadata": {},
   "outputs": [],
   "source": [
    "print('# run 1')\n",
    "print('# P,KL,C1,C2')\n",
    "for i in range(len(complexities1)):\n",
    "    print('{},{},{},{}'.format(i,\n",
    "                               histories[i].history['val_kl_loss'][-1],\n",
    "                               complexities1[i],\n",
    "                               complexities2[i]))"
   ]
  },
  {
   "cell_type": "code",
   "execution_count": null,
   "id": "83136ce0",
   "metadata": {},
   "outputs": [],
   "source": [
    "complexities0 = []\n",
    "for i in range(len(histories)):\n",
    "    complexities0.append(histories[i].history['val_kl_loss'][-1])"
   ]
  },
  {
   "cell_type": "code",
   "execution_count": null,
   "id": "6128d6c7",
   "metadata": {},
   "outputs": [],
   "source": [
    "# Highest to lowest complexity\n",
    "c0_ranked = (-np.array(complexities0)).argsort()\n",
    "c1_ranked = (-np.array(complexities1)).argsort()\n",
    "c2_ranked = (-np.array(complexities2)).argsort()"
   ]
  },
  {
   "cell_type": "code",
   "execution_count": null,
   "id": "8de91548",
   "metadata": {},
   "outputs": [],
   "source": [
    "print('validation_KL: ',c0_ranked)\n",
    "print('complexity1: ',c1_ranked)\n",
    "print('complexity2: ',c2_ranked)"
   ]
  }
 ],
 "metadata": {
  "kernelspec": {
   "display_name": "Python 3 (ipykernel)",
   "language": "python",
   "name": "python3"
  },
  "language_info": {
   "codemirror_mode": {
    "name": "ipython",
    "version": 3
   },
   "file_extension": ".py",
   "mimetype": "text/x-python",
   "name": "python",
   "nbconvert_exporter": "python",
   "pygments_lexer": "ipython3",
   "version": "3.7.11"
  }
 },
 "nbformat": 4,
 "nbformat_minor": 5
}
