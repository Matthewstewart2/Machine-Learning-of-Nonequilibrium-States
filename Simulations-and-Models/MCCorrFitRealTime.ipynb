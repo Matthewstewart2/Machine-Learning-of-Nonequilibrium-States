{
 "cells": [
  {
   "cell_type": "code",
   "execution_count": 12,
   "id": "445d2619",
   "metadata": {},
   "outputs": [],
   "source": [
    "import pandas as pd\n",
    "import numpy as np\n",
    "import matplotlib.pyplot as plt\n",
    "import scipy as sp\n",
    "import scipy.optimize"
   ]
  },
  {
   "cell_type": "code",
   "execution_count": 13,
   "id": "6c29fff9",
   "metadata": {},
   "outputs": [],
   "source": [
    "df = pd.read_csv(\"MCRealTimeCorrelationsDiffpoint1.csv\")"
   ]
  },
  {
   "cell_type": "code",
   "execution_count": 14,
   "id": "be39e2b2",
   "metadata": {},
   "outputs": [
    {
     "data": {
      "text/html": [
       "<div>\n",
       "<style scoped>\n",
       "    .dataframe tbody tr th:only-of-type {\n",
       "        vertical-align: middle;\n",
       "    }\n",
       "\n",
       "    .dataframe tbody tr th {\n",
       "        vertical-align: top;\n",
       "    }\n",
       "\n",
       "    .dataframe thead th {\n",
       "        text-align: right;\n",
       "    }\n",
       "</style>\n",
       "<table border=\"1\" class=\"dataframe\">\n",
       "  <thead>\n",
       "    <tr style=\"text-align: right;\">\n",
       "      <th></th>\n",
       "      <th>1</th>\n",
       "      <th>1.1</th>\n",
       "      <th>1.2</th>\n",
       "      <th>1.3</th>\n",
       "      <th>1.4</th>\n",
       "      <th>1.5</th>\n",
       "      <th>1.6</th>\n",
       "      <th>1.7</th>\n",
       "      <th>1.8</th>\n",
       "      <th>0</th>\n",
       "      <th>...</th>\n",
       "      <th>0.130</th>\n",
       "      <th>0.131</th>\n",
       "      <th>0.132</th>\n",
       "      <th>0.133</th>\n",
       "      <th>0.134</th>\n",
       "      <th>0.135</th>\n",
       "      <th>0.136</th>\n",
       "      <th>0.137</th>\n",
       "      <th>0.138</th>\n",
       "      <th>0.139</th>\n",
       "    </tr>\n",
       "  </thead>\n",
       "  <tbody>\n",
       "    <tr>\n",
       "      <th>0</th>\n",
       "      <td>1</td>\n",
       "      <td>1</td>\n",
       "      <td>1</td>\n",
       "      <td>1</td>\n",
       "      <td>1</td>\n",
       "      <td>1</td>\n",
       "      <td>1</td>\n",
       "      <td>1</td>\n",
       "      <td>1</td>\n",
       "      <td>1</td>\n",
       "      <td>...</td>\n",
       "      <td>0</td>\n",
       "      <td>0</td>\n",
       "      <td>0</td>\n",
       "      <td>0</td>\n",
       "      <td>0</td>\n",
       "      <td>0</td>\n",
       "      <td>0</td>\n",
       "      <td>0</td>\n",
       "      <td>0</td>\n",
       "      <td>0</td>\n",
       "    </tr>\n",
       "    <tr>\n",
       "      <th>1</th>\n",
       "      <td>1</td>\n",
       "      <td>1</td>\n",
       "      <td>1</td>\n",
       "      <td>1</td>\n",
       "      <td>1</td>\n",
       "      <td>1</td>\n",
       "      <td>0</td>\n",
       "      <td>0</td>\n",
       "      <td>0</td>\n",
       "      <td>0</td>\n",
       "      <td>...</td>\n",
       "      <td>0</td>\n",
       "      <td>0</td>\n",
       "      <td>0</td>\n",
       "      <td>0</td>\n",
       "      <td>0</td>\n",
       "      <td>0</td>\n",
       "      <td>0</td>\n",
       "      <td>0</td>\n",
       "      <td>0</td>\n",
       "      <td>0</td>\n",
       "    </tr>\n",
       "    <tr>\n",
       "      <th>2</th>\n",
       "      <td>0</td>\n",
       "      <td>0</td>\n",
       "      <td>0</td>\n",
       "      <td>0</td>\n",
       "      <td>0</td>\n",
       "      <td>0</td>\n",
       "      <td>0</td>\n",
       "      <td>0</td>\n",
       "      <td>1</td>\n",
       "      <td>0</td>\n",
       "      <td>...</td>\n",
       "      <td>0</td>\n",
       "      <td>0</td>\n",
       "      <td>0</td>\n",
       "      <td>0</td>\n",
       "      <td>0</td>\n",
       "      <td>0</td>\n",
       "      <td>0</td>\n",
       "      <td>0</td>\n",
       "      <td>1</td>\n",
       "      <td>1</td>\n",
       "    </tr>\n",
       "    <tr>\n",
       "      <th>3</th>\n",
       "      <td>0</td>\n",
       "      <td>0</td>\n",
       "      <td>0</td>\n",
       "      <td>0</td>\n",
       "      <td>0</td>\n",
       "      <td>0</td>\n",
       "      <td>0</td>\n",
       "      <td>0</td>\n",
       "      <td>0</td>\n",
       "      <td>0</td>\n",
       "      <td>...</td>\n",
       "      <td>1</td>\n",
       "      <td>0</td>\n",
       "      <td>0</td>\n",
       "      <td>0</td>\n",
       "      <td>0</td>\n",
       "      <td>0</td>\n",
       "      <td>0</td>\n",
       "      <td>0</td>\n",
       "      <td>0</td>\n",
       "      <td>0</td>\n",
       "    </tr>\n",
       "    <tr>\n",
       "      <th>4</th>\n",
       "      <td>0</td>\n",
       "      <td>0</td>\n",
       "      <td>0</td>\n",
       "      <td>0</td>\n",
       "      <td>0</td>\n",
       "      <td>0</td>\n",
       "      <td>0</td>\n",
       "      <td>0</td>\n",
       "      <td>0</td>\n",
       "      <td>0</td>\n",
       "      <td>...</td>\n",
       "      <td>1</td>\n",
       "      <td>0</td>\n",
       "      <td>0</td>\n",
       "      <td>0</td>\n",
       "      <td>1</td>\n",
       "      <td>1</td>\n",
       "      <td>1</td>\n",
       "      <td>1</td>\n",
       "      <td>1</td>\n",
       "      <td>1</td>\n",
       "    </tr>\n",
       "  </tbody>\n",
       "</table>\n",
       "<p>5 rows × 200 columns</p>\n",
       "</div>"
      ],
      "text/plain": [
       "   1  1.1  1.2  1.3  1.4  1.5  1.6  1.7  1.8  0  ...  0.130  0.131  0.132  \\\n",
       "0  1    1    1    1    1    1    1    1    1  1  ...      0      0      0   \n",
       "1  1    1    1    1    1    1    0    0    0  0  ...      0      0      0   \n",
       "2  0    0    0    0    0    0    0    0    1  0  ...      0      0      0   \n",
       "3  0    0    0    0    0    0    0    0    0  0  ...      1      0      0   \n",
       "4  0    0    0    0    0    0    0    0    0  0  ...      1      0      0   \n",
       "\n",
       "   0.133  0.134  0.135  0.136  0.137  0.138  0.139  \n",
       "0      0      0      0      0      0      0      0  \n",
       "1      0      0      0      0      0      0      0  \n",
       "2      0      0      0      0      0      1      1  \n",
       "3      0      0      0      0      0      0      0  \n",
       "4      0      1      1      1      1      1      1  \n",
       "\n",
       "[5 rows x 200 columns]"
      ]
     },
     "execution_count": 14,
     "metadata": {},
     "output_type": "execute_result"
    }
   ],
   "source": [
    "df.head()"
   ]
  },
  {
   "cell_type": "code",
   "execution_count": 15,
   "id": "f481e856",
   "metadata": {},
   "outputs": [],
   "source": [
    "av_tau_u = np.array(df.mean(axis=0))\n",
    "av_tau_0 = av_tau_u[0]\n",
    "new_df = df.mul(df.iloc[:, 0], axis=0)\n",
    "av_tau_product = np.array(new_df.mean(axis=0))\n",
    "\n",
    "corr_func = av_tau_product - av_tau_0 * av_tau_u"
   ]
  },
  {
   "cell_type": "code",
   "execution_count": 16,
   "id": "b5efdbd1",
   "metadata": {},
   "outputs": [],
   "source": [
    "def model_func(t, A, K):\n",
    "    return A * np.exp(-K * t)\n",
    "\n",
    "def model_func2(t, A, K, C):\n",
    "    return A * np.exp(-K * t) + C\n",
    "\n",
    "def fit_exp_nonlinear(t, y):\n",
    "    opt_parms, parm_cov = sp.optimize.curve_fit(model_func, t, y)\n",
    "    A, K = opt_parms\n",
    "    return A, K\n",
    "\n",
    "def fit_exp_nonlinear2(t, y):\n",
    "    opt_parms, parm_cov = sp.optimize.curve_fit(model_func2, t, y)\n",
    "    A, K, C = opt_parms\n",
    "    return A, K, C\n",
    "\n",
    "def plot(ax, t, y, fit_y, fit_parms):\n",
    "    A, K = fit_parms\n",
    "    ax.plot(t, fit_y, 'b-',\n",
    "    label='Fitted Function:\\n $y = %0.2f e^{-%0.2f t}$' % (A, K))\n",
    "    ax.plot(t, y, 'ro')\n",
    "    ax.legend(bbox_to_anchor=(1.05, 1.1), fancybox=True, shadow=True)\n",
    "\n",
    "def plot2(ax, t, y, fit_y, fit_parms):\n",
    "    A, K, C = fit_parms\n",
    "    ax.plot(t, fit_y, 'b-',\n",
    "    label='Fitted Function:\\n $y = %0.2f e^{-%0.2f t} + %0.2f$' % (A, K, C))\n",
    "    ax.plot(t, y, 'ro')\n",
    "    ax.legend(bbox_to_anchor=(1.05, 1.1), fancybox=True, shadow=True)"
   ]
  },
  {
   "cell_type": "code",
   "execution_count": 17,
   "id": "2013f105",
   "metadata": {},
   "outputs": [],
   "source": [
    "t = np.arange(0, len(corr_func)*0.2, 0.2)"
   ]
  },
  {
   "cell_type": "code",
   "execution_count": 18,
   "id": "c1bed94d",
   "metadata": {},
   "outputs": [
    {
     "data": {
      "text/plain": [
       "\"fig, ax = plt.subplots(figsize=(10, 6))\\n\\n# Non-linear Fit\\nA, K, C = fit_exp_nonlinear2(t, corr_func)\\nprint(K)\\nfit_y = model_func2(t, A, K, C)\\nplot(ax, t, corr_func, fit_y, (A, K, C))\\nax.set_title('Low Density Phase ' + r'$\\x07lpha$ = 0.25 ' + r'$\\x08eta$ = 0.75')\\nax.set_xlabel('Time after steady state reached')\\nax.set_ylabel('Correlation function')\\n\\nplt.show()\""
      ]
     },
     "execution_count": 18,
     "metadata": {},
     "output_type": "execute_result"
    }
   ],
   "source": [
    "\"\"\"fig, ax = plt.subplots(figsize=(10, 6))\n",
    "\n",
    "# Non-linear Fit\n",
    "A, K, C = fit_exp_nonlinear2(t, corr_func)\n",
    "print(K)\n",
    "fit_y = model_func2(t, A, K, C)\n",
    "plot(ax, t, corr_func, fit_y, (A, K, C))\n",
    "ax.set_title('Low Density Phase ' + r'$\\alpha$ = 0.25 ' + r'$\\beta$ = 0.75')\n",
    "ax.set_xlabel('Time after steady state reached')\n",
    "ax.set_ylabel('Correlation function')\n",
    "\n",
    "plt.show()\"\"\""
   ]
  },
  {
   "cell_type": "code",
   "execution_count": 19,
   "id": "bfc51361",
   "metadata": {},
   "outputs": [
    {
     "name": "stdout",
     "output_type": "stream",
     "text": [
      "0.22040648068801919\n"
     ]
    },
    {
     "data": {
      "image/png": "[encoded data removed]",
      "text/plain": [
       "<Figure size 720x432 with 1 Axes>"
      ]
     },
     "metadata": {
      "needs_background": "light"
     },
     "output_type": "display_data"
    }
   ],
   "source": [
    "fig, ax = plt.subplots(figsize=(10, 6))\n",
    "\n",
    "# Non-linear Fit\n",
    "A, K = fit_exp_nonlinear(t, corr_func)\n",
    "print(K)\n",
    "fit_y = model_func(t, A, K)\n",
    "plot(ax, t, corr_func, fit_y, (A, K))\n",
    "ax.set_title('Low Density Phase ' + r'$\\alpha$ = 0.25 ' + r'$\\beta$ = 0.75')\n",
    "ax.set_xlabel('Time after steady state reached')\n",
    "ax.set_ylabel('Correlation function')\n",
    "\n",
    "plt.show()"
   ]
  }
 ],
 "metadata": {
  "kernelspec": {
   "display_name": "Python 3 (ipykernel)",
   "language": "python",
   "name": "python3"
  },
  "language_info": {
   "codemirror_mode": {
    "name": "ipython",
    "version": 3
   },
   "file_extension": ".py",
   "mimetype": "text/x-python",
   "name": "python",
   "nbconvert_exporter": "python",
   "pygments_lexer": "ipython3",
   "version": "3.7.10"
  }
 },
 "nbformat": 4,
 "nbformat_minor": 5
}
