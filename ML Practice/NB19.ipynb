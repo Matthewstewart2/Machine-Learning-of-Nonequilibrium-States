{
 "cells": [
  {
   "cell_type": "code",
   "execution_count": 8,
   "id": "c1b004f6",
   "metadata": {},
   "outputs": [],
   "source": [
    "import tensorflow.keras\n",
    "from tensorflow.keras import layers\n",
    "from tensorflow.keras.datasets import mnist\n",
    "import numpy as np"
   ]
  },
  {
   "cell_type": "code",
   "execution_count": 9,
   "id": "0029f592",
   "metadata": {},
   "outputs": [],
   "source": [
    "# This is the size of our encoded representations\n",
    "encoding_dim = 32  # 32 floats -> compression of factor 24.5, assuming the input is 784 floats\n",
    "\n",
    "# This is our input image\n",
    "input_img = tensorflow.keras.Input(shape=(784,))\n",
    "# \"encoded\" is the encoded representation of the input\n",
    "encoded = layers.Dense(encoding_dim, activation='relu')(input_img)\n",
    "# \"decoded\" is the lossy reconstruction of the input\n",
    "decoded = layers.Dense(784, activation='sigmoid')(encoded)\n",
    "\n",
    "# This model maps an input to its reconstruction\n",
    "autoencoder = tensorflow.keras.Model(input_img, decoded)"
   ]
  },
  {
   "cell_type": "code",
   "execution_count": 12,
   "id": "da51e420",
   "metadata": {},
   "outputs": [],
   "source": [
    "# This model maps an input to its encoded representation\n",
    "encoder = tensorflow.keras.Model(input_img, encoded)"
   ]
  },
  {
   "cell_type": "code",
   "execution_count": 13,
   "id": "91432de8",
   "metadata": {},
   "outputs": [],
   "source": [
    "# This is our encoded (32-dimensional) input\n",
    "encoded_input = tensorflow.keras.Input(shape=(encoding_dim,))\n",
    "# Retrieve the last layer of the autoencoder model\n",
    "decoder_layer = autoencoder.layers[-1]\n",
    "# Create the decoder model\n",
    "decoder = tensorflow.keras.Model(encoded_input, decoder_layer(encoded_input))"
   ]
  },
  {
   "cell_type": "code",
   "execution_count": 14,
   "id": "04c4d577",
   "metadata": {},
   "outputs": [
    {
     "name": "stdout",
     "output_type": "stream",
     "text": [
      "WARNING:tensorflow:From C:\\Users\\Matthew\\Anaconda3\\envs\\daml\\lib\\site-packages\\tensorflow\\python\\ops\\nn_impl.py:180: add_dispatch_support.<locals>.wrapper (from tensorflow.python.ops.array_ops) is deprecated and will be removed in a future version.\n",
      "Instructions for updating:\n",
      "Use tf.where in 2.0, which has the same broadcast rule as np.where\n"
     ]
    }
   ],
   "source": [
    "autoencoder.compile(optimizer='adam', loss='binary_crossentropy')"
   ]
  },
  {
   "cell_type": "code",
   "execution_count": 15,
   "id": "2a797c84",
   "metadata": {},
   "outputs": [
    {
     "name": "stdout",
     "output_type": "stream",
     "text": [
      "Downloading data from https://storage.googleapis.com/tensorflow/tf-keras-datasets/mnist.npz\n",
      "11493376/11490434 [==============================] - 2s 0us/step\n",
      "(60000, 784)\n",
      "(10000, 784)\n"
     ]
    }
   ],
   "source": [
    "(x_train, _), (x_test, _) = mnist.load_data()\n",
    "\n",
    "x_train = x_train.astype('float32') / 255.\n",
    "x_test = x_test.astype('float32') / 255.\n",
    "x_train = x_train.reshape((len(x_train), np.prod(x_train.shape[1:])))\n",
    "x_test = x_test.reshape((len(x_test), np.prod(x_test.shape[1:])))\n",
    "print(x_train.shape)\n",
    "print(x_test.shape)"
   ]
  },
  {
   "cell_type": "code",
   "execution_count": 16,
   "id": "26d81d03",
   "metadata": {},
   "outputs": [
    {
     "name": "stdout",
     "output_type": "stream",
     "text": [
      "Train on 60000 samples, validate on 10000 samples\n",
      "Epoch 1/50\n",
      "60000/60000 [==============================] - 3s 53us/sample - loss: 0.2758 - val_loss: 0.1864\n",
      "Epoch 2/50\n",
      "60000/60000 [==============================] - 3s 42us/sample - loss: 0.1683 - val_loss: 0.1519\n",
      "Epoch 3/50\n",
      "60000/60000 [==============================] - 2s 41us/sample - loss: 0.1434 - val_loss: 0.1329\n",
      "Epoch 4/50\n",
      "60000/60000 [==============================] - 2s 39us/sample - loss: 0.1280 - val_loss: 0.1205\n",
      "Epoch 5/50\n",
      "60000/60000 [==============================] - 3s 47us/sample - loss: 0.1178 - val_loss: 0.1126\n",
      "Epoch 6/50\n",
      "60000/60000 [==============================] - 3s 45us/sample - loss: 0.1107 - val_loss: 0.1067\n",
      "Epoch 7/50\n",
      "60000/60000 [==============================] - 2s 41us/sample - loss: 0.1056 - val_loss: 0.1022\n",
      "Epoch 8/50\n",
      "60000/60000 [==============================] - 2s 41us/sample - loss: 0.1018 - val_loss: 0.0990\n",
      "Epoch 9/50\n",
      "60000/60000 [==============================] - 3s 42us/sample - loss: 0.0992 - val_loss: 0.0969\n",
      "Epoch 10/50\n",
      "60000/60000 [==============================] - 2s 39us/sample - loss: 0.0974 - val_loss: 0.0954\n",
      "Epoch 11/50\n",
      "60000/60000 [==============================] - 3s 43us/sample - loss: 0.0962 - val_loss: 0.0945\n",
      "Epoch 12/50\n",
      "60000/60000 [==============================] - 3s 44us/sample - loss: 0.0955 - val_loss: 0.0941\n",
      "Epoch 13/50\n",
      "60000/60000 [==============================] - 3s 50us/sample - loss: 0.0949 - val_loss: 0.0933\n",
      "Epoch 14/50\n",
      "60000/60000 [==============================] - 3s 51us/sample - loss: 0.0945 - val_loss: 0.0931\n",
      "Epoch 15/50\n",
      "60000/60000 [==============================] - 3s 43us/sample - loss: 0.0943 - val_loss: 0.0929\n",
      "Epoch 16/50\n",
      "60000/60000 [==============================] - 2s 41us/sample - loss: 0.0940 - val_loss: 0.0926\n",
      "Epoch 17/50\n",
      "60000/60000 [==============================] - 3s 44us/sample - loss: 0.0939 - val_loss: 0.0925\n",
      "Epoch 18/50\n",
      "60000/60000 [==============================] - 3s 45us/sample - loss: 0.0937 - val_loss: 0.0924\n",
      "Epoch 19/50\n",
      "60000/60000 [==============================] - 3s 42us/sample - loss: 0.0936 - val_loss: 0.0923\n",
      "Epoch 20/50\n",
      "60000/60000 [==============================] - 2s 38us/sample - loss: 0.0935 - val_loss: 0.0921\n",
      "Epoch 21/50\n",
      "60000/60000 [==============================] - 2s 41us/sample - loss: 0.0934 - val_loss: 0.0921\n",
      "Epoch 22/50\n",
      "60000/60000 [==============================] - 3s 43us/sample - loss: 0.0933 - val_loss: 0.0920\n",
      "Epoch 23/50\n",
      "60000/60000 [==============================] - 2s 40us/sample - loss: 0.0933 - val_loss: 0.0921\n",
      "Epoch 24/50\n",
      "60000/60000 [==============================] - 3s 47us/sample - loss: 0.0932 - val_loss: 0.0919\n",
      "Epoch 25/50\n",
      "60000/60000 [==============================] - 3s 42us/sample - loss: 0.0932 - val_loss: 0.0919\n",
      "Epoch 26/50\n",
      "60000/60000 [==============================] - 3s 46us/sample - loss: 0.0931 - val_loss: 0.0919\n",
      "Epoch 27/50\n",
      "60000/60000 [==============================] - 2s 41us/sample - loss: 0.0931 - val_loss: 0.0919\n",
      "Epoch 28/50\n",
      "60000/60000 [==============================] - 3s 43us/sample - loss: 0.0931 - val_loss: 0.0919\n",
      "Epoch 29/50\n",
      "60000/60000 [==============================] - 2s 41us/sample - loss: 0.0930 - val_loss: 0.0919\n",
      "Epoch 30/50\n",
      "60000/60000 [==============================] - 3s 43us/sample - loss: 0.0930 - val_loss: 0.0918\n",
      "Epoch 31/50\n",
      "60000/60000 [==============================] - 3s 42us/sample - loss: 0.0930 - val_loss: 0.0918\n",
      "Epoch 32/50\n",
      "60000/60000 [==============================] - 2s 38us/sample - loss: 0.0929 - val_loss: 0.0918\n",
      "Epoch 33/50\n",
      "60000/60000 [==============================] - 2s 37us/sample - loss: 0.0929 - val_loss: 0.0918\n",
      "Epoch 34/50\n",
      "60000/60000 [==============================] - 3s 45us/sample - loss: 0.0929 - val_loss: 0.0919\n",
      "Epoch 35/50\n",
      "60000/60000 [==============================] - 2s 40us/sample - loss: 0.0929 - val_loss: 0.0917\n",
      "Epoch 36/50\n",
      "60000/60000 [==============================] - 2s 40us/sample - loss: 0.0928 - val_loss: 0.0916\n",
      "Epoch 37/50\n",
      "60000/60000 [==============================] - 3s 44us/sample - loss: 0.0928 - val_loss: 0.0917\n",
      "Epoch 38/50\n",
      "60000/60000 [==============================] - 3s 44us/sample - loss: 0.0928 - val_loss: 0.0916\n",
      "Epoch 39/50\n",
      "60000/60000 [==============================] - 3s 42us/sample - loss: 0.0928 - val_loss: 0.0916\n",
      "Epoch 40/50\n",
      "60000/60000 [==============================] - 3s 44us/sample - loss: 0.0928 - val_loss: 0.0916\n",
      "Epoch 41/50\n",
      "60000/60000 [==============================] - 3s 42us/sample - loss: 0.0927 - val_loss: 0.0915\n",
      "Epoch 42/50\n",
      "60000/60000 [==============================] - 2s 40us/sample - loss: 0.0927 - val_loss: 0.0916\n",
      "Epoch 43/50\n",
      "60000/60000 [==============================] - 3s 53us/sample - loss: 0.0927 - val_loss: 0.0917\n",
      "Epoch 44/50\n",
      "60000/60000 [==============================] - 3s 46us/sample - loss: 0.0927 - val_loss: 0.0916\n",
      "Epoch 45/50\n",
      "60000/60000 [==============================] - 2s 36us/sample - loss: 0.0927 - val_loss: 0.0916\n",
      "Epoch 46/50\n",
      "60000/60000 [==============================] - 2s 37us/sample - loss: 0.0927 - val_loss: 0.0915\n",
      "Epoch 47/50\n",
      "60000/60000 [==============================] - 2s 36us/sample - loss: 0.0927 - val_loss: 0.0916\n",
      "Epoch 48/50\n",
      "60000/60000 [==============================] - 2s 38us/sample - loss: 0.0927 - val_loss: 0.0917\n",
      "Epoch 49/50\n",
      "60000/60000 [==============================] - 3s 48us/sample - loss: 0.0927 - val_loss: 0.0915\n",
      "Epoch 50/50\n",
      "60000/60000 [==============================] - 3s 44us/sample - loss: 0.0926 - val_loss: 0.0915\n"
     ]
    },
    {
     "data": {
      "text/plain": [
       "<tensorflow.python.keras.callbacks.History at 0x2400988bf48>"
      ]
     },
     "execution_count": 16,
     "metadata": {},
     "output_type": "execute_result"
    }
   ],
   "source": [
    "autoencoder.fit(x_train, x_train,\n",
    "                epochs=50,\n",
    "                batch_size=256,\n",
    "                shuffle=True,\n",
    "                validation_data=(x_test, x_test))"
   ]
  },
  {
   "cell_type": "code",
   "execution_count": 17,
   "id": "75ef7569",
   "metadata": {},
   "outputs": [],
   "source": [
    "# Encode and decode some digits\n",
    "# Note that we take them from the *test* set\n",
    "encoded_imgs = encoder.predict(x_test)\n",
    "decoded_imgs = decoder.predict(encoded_imgs)"
   ]
  },
  {
   "cell_type": "code",
   "execution_count": 18,
   "id": "37f26476",
   "metadata": {},
   "outputs": [
    {
     "data": {
      "image/png": "[encoded data removed]",
      "text/plain": [
       "<Figure size 1440x288 with 20 Axes>"
      ]
     },
     "metadata": {
      "needs_background": "light"
     },
     "output_type": "display_data"
    }
   ],
   "source": [
    "# Use Matplotlib (don't ask)\n",
    "import matplotlib.pyplot as plt\n",
    "\n",
    "n = 10  # How many digits we will display\n",
    "plt.figure(figsize=(20, 4))\n",
    "for i in range(n):\n",
    "    # Display original\n",
    "    ax = plt.subplot(2, n, i + 1)\n",
    "    plt.imshow(x_test[i].reshape(28, 28))\n",
    "    plt.gray()\n",
    "    ax.get_xaxis().set_visible(False)\n",
    "    ax.get_yaxis().set_visible(False)\n",
    "\n",
    "    # Display reconstruction\n",
    "    ax = plt.subplot(2, n, i + 1 + n)\n",
    "    plt.imshow(decoded_imgs[i].reshape(28, 28))\n",
    "    plt.gray()\n",
    "    ax.get_xaxis().set_visible(False)\n",
    "    ax.get_yaxis().set_visible(False)\n",
    "plt.show()"
   ]
  },
  {
   "cell_type": "code",
   "execution_count": null,
   "id": "7ad094c4",
   "metadata": {},
   "outputs": [],
   "source": []
  }
 ],
 "metadata": {
  "kernelspec": {
   "display_name": "Python 3 (ipykernel)",
   "language": "python",
   "name": "python3"
  },
  "language_info": {
   "codemirror_mode": {
    "name": "ipython",
    "version": 3
   },
   "file_extension": ".py",
   "mimetype": "text/x-python",
   "name": "python",
   "nbconvert_exporter": "python",
   "pygments_lexer": "ipython3",
   "version": "3.7.10"
  }
 },
 "nbformat": 4,
 "nbformat_minor": 5
}
