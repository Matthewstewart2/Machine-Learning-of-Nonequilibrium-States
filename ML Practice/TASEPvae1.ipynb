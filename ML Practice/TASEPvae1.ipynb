{
 "cells": [
  {
   "cell_type": "code",
   "execution_count": 147,
   "id": "030d91fb",
   "metadata": {},
   "outputs": [],
   "source": [
    "from __future__ import print_function\n",
    "from sklearn.model_selection import train_test_split\n",
    "from tensorflow.keras.layers import Input, Dense, Lambda\n",
    "from tensorflow.keras.models import Model\n",
    "from tensorflow.keras import backend as K\n",
    "from tensorflow.keras import metrics, losses\n",
    "from tensorflow.keras.datasets import mnist\n",
    "from scipy.stats import norm\n",
    "import collections\n",
    "import os\n",
    "import numpy as np\n",
    "import pandas as pd\n",
    "import matplotlib.pyplot as plt"
   ]
  },
  {
   "cell_type": "code",
   "execution_count": 148,
   "id": "28636183",
   "metadata": {},
   "outputs": [],
   "source": [
    "def load_dataset():\n",
    "    \n",
    "    # hd data is alpha=0.75, beta=0.25\n",
    "    hd_full_data = pd.read_csv(\"C:/Users/Matthew/Documents/University/Year 5/MPhys Project/Simulations/Original/5e4_snaps_alpha75_beta25.csv\", header=None)\n",
    "    #hd_full_data['y'] = [[(0.75, 0.25), 0.75]] * hd_full_data.shape[0]\n",
    "    hd_full_data['y'] = [1] * hd_full_data.shape[0]\n",
    "    # ld data is alpha=0.25, beta=0.75\n",
    "    ld_full_data = pd.read_csv(\"C:/Users/Matthew/Documents/University/Year 5/MPhys Project/Simulations/Original/5e4_snaps_alpha25_beta75.csv\", header=None)\n",
    "    #ld_full_data['y'] = [[(0.25, 0.75), 0.25]] * ld_full_data.shape[0]\n",
    "    ld_full_data['y'] = [2] * ld_full_data.shape[0]\n",
    "    # mc data is alpha=0.60, beta=0.60\n",
    "    mc_full_data = pd.read_csv(\"C:/Users/Matthew/Documents/University/Year 5/MPhys Project/Simulations/Original/5e4_snaps_alpha60_beta60.csv\", header=None)\n",
    "    #mc_full_data['y'] = [[(0.60, 0.60), 0.5]] * mc_full_data.shape[0]\n",
    "    mc_full_data['y'] = [3] * mc_full_data.shape[0]\n",
    "    \n",
    "    combined_full_data = pd.concat([hd_full_data, ld_full_data, mc_full_data])\n",
    "    #combined_full_data = combined_full_data.sample(frac=1).reset_index(drop=True)\n",
    "    \n",
    "    X = combined_full_data.iloc[:, :-1]\n",
    "    y = combined_full_data.iloc[:, -1]\n",
    "    \n",
    "    return X, y\n",
    "    "
   ]
  },
  {
   "cell_type": "code",
   "execution_count": 149,
   "id": "0a3d0434",
   "metadata": {},
   "outputs": [],
   "source": [
    "class VAE:\n",
    "    \n",
    "    def __init__(self, batch_size=100, original_dim = 100, intermediate_dim = 50, latent_dim = 3, epochs=50, epsilon=0.5):\n",
    "        #\n",
    "        self.batch_size = batch_size\n",
    "        self.original_dim = original_dim\n",
    "        self.latent_dim = latent_dim\n",
    "        self.intermediate_dim = intermediate_dim\n",
    "        self.epochs = epochs\n",
    "        self.epsilon_std = epsilon\n",
    "        \n",
    "    def sampling(self, args):\n",
    "        # Sampling from the latent variables using the means and log-variances\n",
    "        z_mean, z_log_var = args\n",
    "        epsilon = K.random_normal(shape=(K.shape(z_mean)[0], self.latent_dim), mean=0.,\n",
    "                                  stddev=self.epsilon_std)\n",
    "        return z_mean + K.exp(z_log_var / 2) * epsilon\n",
    "        #return z_mean + K.exp(z_log_var) * epsilon\n",
    "    \n",
    "    def build(self):\n",
    "        #\n",
    "        original_dim = self.original_dim\n",
    "        latent_dim = self.latent_dim\n",
    "        intermediate_dim = self.intermediate_dim\n",
    "        \n",
    "        # encoder\n",
    "        self.x = Input(shape=(original_dim,))\n",
    "        h = Dense(intermediate_dim, activation='relu')(self.x)\n",
    "        self.z_mean = Dense(latent_dim)(h)\n",
    "        self.z_log_var = Dense(latent_dim)(h)\n",
    "        \n",
    "        # note that \"output_shape\" isn't necessary with the TensorFlow backend\n",
    "        z = Lambda(self.sampling, output_shape=(latent_dim,))([self.z_mean, self.z_log_var])\n",
    "        \n",
    "        # we instantiate these layers separately so as to reuse them later\n",
    "        decoder_h = Dense(intermediate_dim, activation='relu')\n",
    "        decoder_mean = Dense(original_dim, activation='sigmoid')\n",
    "        h_decoded = decoder_h(z)\n",
    "        x_decoded_mean = decoder_mean(h_decoded)\n",
    "        \n",
    "        #decoder\n",
    "        decoder_input = Input(shape=(latent_dim,))\n",
    "        _h_decoded = decoder_h(decoder_input)\n",
    "        _x_decoded_mean = decoder_mean(_h_decoded)\n",
    "        \n",
    "        self.generator = Model(decoder_input, _x_decoded_mean)\n",
    "\n",
    "        \n",
    "        # end-to-end VAE model\n",
    "        self.vae = Model(self.x, x_decoded_mean)\n",
    "        \n",
    "        # encoder, from inputs to latent space\n",
    "        self.encoder = Model(self.x, self.z_mean)\n",
    "        \n",
    "        # decoder\n",
    "        #self.decoder = Model(decoder_input, _x_decoded_mean)\n",
    "        \n",
    "        # Compute VAE loss\n",
    "        self.vae.compile(optimizer='rmsprop', loss=self.vae_loss)\n",
    "        \n",
    "        # Prints a summary of the architecture used\n",
    "        self.vae.summary()\n",
    "\n",
    "    def vae_loss(self, x, x_decoded_mean):\n",
    "        #\n",
    "        xent_loss = losses.binary_crossentropy(x, x_decoded_mean)\n",
    "        kl_loss = - 0.5 * K.mean(1 + self.z_log_var - K.square(self.z_mean) - K.exp(self.z_log_var), axis=-1)\n",
    "        return xent_loss + kl_loss\n",
    "    \n",
    "    def train(self, x_train, x_test):\n",
    "        #\n",
    "        #x_train = x_train.reshape((len(x_train), np.prod(x_train.shape[1:]))) # flatten each sample out \n",
    "        #x_test = x_test.reshape((len(x_test), np.prod(x_test.shape[1:])))\n",
    "        #x_train = minmax_scale(x_train) # this step is required in order to use cross-entropy loss for reconstruction\n",
    "        #x_test = minmax_scale(x_train) # scaling features in 0,1 interval\n",
    "        \n",
    "        \n",
    "        self.vae.fit(x_train, x_train,\n",
    "                shuffle=True,\n",
    "                epochs=self.epochs,\n",
    "                batch_size=self.batch_size,\n",
    "                validation_data=(x_test, x_test)\n",
    "                )\n",
    "\n",
    "        # build a model to project inputs on the latent space\n",
    "        #encoder = Model(self.x, self.z_mean)\n",
    "\n",
    "    def predict_latent(self, xnew):\n",
    "        # build a model to project inputs on the latent space\n",
    "        return self.encoder.predict(xnew)\n",
    "    \n",
    "    def generate_decoding(self, znew):\n",
    "        # Generate new fantasy particles \n",
    "        return self.generator.predict(znew)"
   ]
  },
  {
   "cell_type": "code",
   "execution_count": 150,
   "id": "35721865",
   "metadata": {},
   "outputs": [],
   "source": [
    "X, y = load_dataset()"
   ]
  },
  {
   "cell_type": "code",
   "execution_count": 151,
   "id": "d0db74fe",
   "metadata": {},
   "outputs": [
    {
     "name": "stdout",
     "output_type": "stream",
     "text": [
      "(30000, 100)\n"
     ]
    }
   ],
   "source": [
    "xtrain, xtest, ytrain, ytest = train_test_split(X, y, test_size=0.8)\n",
    "print(xtrain.shape)"
   ]
  },
  {
   "cell_type": "code",
   "execution_count": 152,
   "id": "67f19aa5",
   "metadata": {},
   "outputs": [
    {
     "name": "stdout",
     "output_type": "stream",
     "text": [
      "Model: \"model_34\"\n",
      "__________________________________________________________________________________________________\n",
      "Layer (type)                    Output Shape         Param #     Connected to                     \n",
      "==================================================================================================\n",
      "input_23 (InputLayer)           [(None, 100)]        0                                            \n",
      "__________________________________________________________________________________________________\n",
      "dense_55 (Dense)                (None, 50)           5050        input_23[0][0]                   \n",
      "__________________________________________________________________________________________________\n",
      "dense_56 (Dense)                (None, 2)            102         dense_55[0][0]                   \n",
      "__________________________________________________________________________________________________\n",
      "dense_57 (Dense)                (None, 2)            102         dense_55[0][0]                   \n",
      "__________________________________________________________________________________________________\n",
      "lambda_11 (Lambda)              (None, 2)            0           dense_56[0][0]                   \n",
      "                                                                 dense_57[0][0]                   \n",
      "__________________________________________________________________________________________________\n",
      "dense_58 (Dense)                (None, 50)           150         lambda_11[0][0]                  \n",
      "__________________________________________________________________________________________________\n",
      "dense_59 (Dense)                (None, 100)          5100        dense_58[0][0]                   \n",
      "==================================================================================================\n",
      "Total params: 10,504\n",
      "Trainable params: 10,504\n",
      "Non-trainable params: 0\n",
      "__________________________________________________________________________________________________\n",
      "Train on 30000 samples, validate on 120000 samples\n",
      "Epoch 1/20\n",
      "30000/30000 [==============================] - 4s 123us/sample - loss: 0.7077 - val_loss: 0.6930\n",
      "Epoch 2/20\n",
      "30000/30000 [==============================] - 3s 91us/sample - loss: 0.6929 - val_loss: 0.6926\n",
      "Epoch 3/20\n",
      "30000/30000 [==============================] - 3s 92us/sample - loss: 0.6815 - val_loss: 0.6682\n",
      "Epoch 4/20\n",
      "30000/30000 [==============================] - 3s 91us/sample - loss: 0.6649 - val_loss: 0.6626\n",
      "Epoch 5/20\n",
      "30000/30000 [==============================] - 3s 101us/sample - loss: 0.6606 - val_loss: 0.6601\n",
      "Epoch 6/20\n",
      "30000/30000 [==============================] - 3s 93us/sample - loss: 0.6584 - val_loss: 0.6579\n",
      "Epoch 7/20\n",
      "30000/30000 [==============================] - 3s 94us/sample - loss: 0.6575 - val_loss: 0.6567\n",
      "Epoch 8/20\n",
      "30000/30000 [==============================] - 3s 100us/sample - loss: 0.6564 - val_loss: 0.6564\n",
      "Epoch 9/20\n",
      "30000/30000 [==============================] - 3s 92us/sample - loss: 0.6559 - val_loss: 0.6563\n",
      "Epoch 10/20\n",
      "30000/30000 [==============================] - 3s 108us/sample - loss: 0.6553 - val_loss: 0.6555\n",
      "Epoch 11/20\n",
      "30000/30000 [==============================] - 3s 92us/sample - loss: 0.6554 - val_loss: 0.6553\n",
      "Epoch 12/20\n",
      "30000/30000 [==============================] - 3s 91us/sample - loss: 0.6551 - val_loss: 0.6561\n",
      "Epoch 13/20\n",
      "30000/30000 [==============================] - 3s 93us/sample - loss: 0.6554 - val_loss: 0.6545\n",
      "Epoch 14/20\n",
      "30000/30000 [==============================] - 3s 97us/sample - loss: 0.6544 - val_loss: 0.6568\n",
      "Epoch 15/20\n",
      "30000/30000 [==============================] - 3s 93us/sample - loss: 0.6551 - val_loss: 0.6550\n",
      "Epoch 16/20\n",
      "30000/30000 [==============================] - 3s 102us/sample - loss: 0.6548 - val_loss: 0.6544\n",
      "Epoch 17/20\n",
      "30000/30000 [==============================] - 3s 93us/sample - loss: 0.6546 - val_loss: 0.6543\n",
      "Epoch 18/20\n",
      "30000/30000 [==============================] - 3s 92us/sample - loss: 0.6546 - val_loss: 0.6565\n",
      "Epoch 19/20\n",
      "30000/30000 [==============================] - 3s 91us/sample - loss: 0.6550 - val_loss: 0.6542\n",
      "Epoch 20/20\n",
      "30000/30000 [==============================] - 3s 91us/sample - loss: 0.6544 - val_loss: 0.6540\n"
     ]
    }
   ],
   "source": [
    "model = VAE(epochs=20, latent_dim=2, epsilon=0.2) # Choose model parameters\n",
    "model.build() # Construct VAE model using Keras\n",
    "model.train(xtrain, xtest) # Trains VAE model based on custom loss function"
   ]
  },
  {
   "cell_type": "code",
   "execution_count": 153,
   "id": "c651bcc5",
   "metadata": {},
   "outputs": [
    {
     "name": "stdout",
     "output_type": "stream",
     "text": [
      "(120000, 2)\n"
     ]
    }
   ],
   "source": [
    "zpred = model.predict_latent(xtest)\n",
    "print(zpred.shape)"
   ]
  },
  {
   "cell_type": "code",
   "execution_count": 154,
   "id": "a99dba63",
   "metadata": {},
   "outputs": [
    {
     "data": {
      "image/png": "[encoded data removed]",
      "text/plain": [
       "<Figure size 576x355.988 with 2 Axes>"
      ]
     },
     "metadata": {
      "needs_background": "light"
     },
     "output_type": "display_data"
    }
   ],
   "source": [
    "# To make plots pretty\n",
    "golden_size = lambda width: (width, 2. * width / (1 + np.sqrt(5)))\n",
    "\n",
    "plt.rc('font',**{'size':16})\n",
    "fig, ax = plt.subplots(1,figsize=golden_size(8))\n",
    "sc = ax.scatter(zpred[:,0], zpred[:,1], c=ytest, s=4, cmap=\"Set1\")\n",
    "ax.set_xlabel('First latent dimension of the VAE')\n",
    "ax.set_ylabel('Second latent dimension of the VAE')\n",
    "plt.colorbar(sc, label='(alpha, beta)')\n",
    "#plt.savefig('latent_plot.png')\n",
    "plt.show()"
   ]
  },
  {
   "cell_type": "code",
   "execution_count": null,
   "id": "53f98c3e",
   "metadata": {},
   "outputs": [],
   "source": []
  }
 ],
 "metadata": {
  "kernelspec": {
   "display_name": "Python 3 (ipykernel)",
   "language": "python",
   "name": "python3"
  },
  "language_info": {
   "codemirror_mode": {
    "name": "ipython",
    "version": 3
   },
   "file_extension": ".py",
   "mimetype": "text/x-python",
   "name": "python",
   "nbconvert_exporter": "python",
   "pygments_lexer": "ipython3",
   "version": "3.7.10"
  }
 },
 "nbformat": 4,
 "nbformat_minor": 5
}
